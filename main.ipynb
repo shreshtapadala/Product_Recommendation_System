{
 "cells": [
  {
   "cell_type": "code",
   "execution_count": 1,
   "id": "932ad182",
   "metadata": {},
   "outputs": [],
   "source": [
    "#Import libraries\n",
    "\n",
    "import pandas as pd\n",
    "import numpy as np\n",
    "\n",
    "import matplotlib.pyplot as plt\n",
    "import seaborn as sns\n",
    "\n",
    "from sklearn.metrics.pairwise import cosine_similarity\n",
    "\n",
    "from sklearn.metrics import mean_squared_error\n",
    "\n",
    "from scipy.sparse.linalg import svds"
   ]
  },
  {
   "cell_type": "code",
   "execution_count": 2,
   "id": "e0065917",
   "metadata": {},
   "outputs": [],
   "source": [
    "import warnings\n",
    "warnings.filterwarnings('ignore')"
   ]
  },
  {
   "cell_type": "code",
   "execution_count": 3,
   "id": "e102da8d",
   "metadata": {},
   "outputs": [],
   "source": [
    "#Import Dataset\n",
    "\n",
    "df = pd.read_csv(r\"ratings_Electronics.csv", header=None)"
   ]
  },
  {
   "cell_type": "code",
   "execution_count": 4,
   "id": "04fbe98e",
   "metadata": {},
   "outputs": [
    {
     "data": {
      "text/plain": [
       "Int64Index([0, 1, 2, 3], dtype='int64')"
      ]
     },
     "execution_count": 4,
     "metadata": {},
     "output_type": "execute_result"
    }
   ],
   "source": [
    "df.columns"
   ]
  },
  {
   "cell_type": "code",
   "execution_count": 5,
   "id": "890cbf72",
   "metadata": {},
   "outputs": [],
   "source": [
    "df.columns = ['userId', 'productId', 'rating', 'timestamp']\n",
    "\n",
    "df.drop('timestamp', axis=1, inplace=True)\n",
    "\n",
    "df_copy = df.copy(deep=True)"
   ]
  },
  {
   "cell_type": "code",
   "execution_count": 6,
   "id": "10197d7d",
   "metadata": {},
   "outputs": [
    {
     "data": {
      "text/plain": [
       "Index(['userId', 'productId', 'rating'], dtype='object')"
      ]
     },
     "execution_count": 6,
     "metadata": {},
     "output_type": "execute_result"
    }
   ],
   "source": [
    "df.columns"
   ]
  },
  {
   "cell_type": "code",
   "execution_count": 7,
   "id": "48c3789b",
   "metadata": {},
   "outputs": [
    {
     "name": "stdout",
     "output_type": "stream",
     "text": [
      "No. of rows =  7824482\n",
      "No. of columns =  3\n"
     ]
    }
   ],
   "source": [
    "# Shape \n",
    "\n",
    "rows, columns = df.shape\n",
    "\n",
    "print(\"No. of rows = \", rows)\n",
    "print(\"No. of columns = \", columns)"
   ]
  },
  {
   "cell_type": "code",
   "execution_count": 8,
   "id": "212bbfc1",
   "metadata": {},
   "outputs": [
    {
     "name": "stdout",
     "output_type": "stream",
     "text": [
      "<class 'pandas.core.frame.DataFrame'>\n",
      "RangeIndex: 7824482 entries, 0 to 7824481\n",
      "Data columns (total 3 columns):\n",
      " #   Column     Dtype  \n",
      "---  ------     -----  \n",
      " 0   userId     object \n",
      " 1   productId  object \n",
      " 2   rating     float64\n",
      "dtypes: float64(1), object(2)\n",
      "memory usage: 179.1+ MB\n"
     ]
    }
   ],
   "source": [
    "# Datatypes\n",
    "\n",
    "df.info()"
   ]
  },
  {
   "cell_type": "code",
   "execution_count": 9,
   "id": "687131d7",
   "metadata": {},
   "outputs": [
    {
     "data": {
      "text/plain": [
       "userId       0\n",
       "productId    0\n",
       "rating       0\n",
       "dtype: int64"
      ]
     },
     "execution_count": 9,
     "metadata": {},
     "output_type": "execute_result"
    }
   ],
   "source": [
    "# Find missing values in each column\n",
    "\n",
    "df.isna().sum()"
   ]
  },
  {
   "cell_type": "code",
   "execution_count": 10,
   "id": "16442411",
   "metadata": {},
   "outputs": [
    {
     "data": {
      "text/plain": [
       "count    7.824482e+06\n",
       "mean     4.012337e+00\n",
       "std      1.380910e+00\n",
       "min      1.000000e+00\n",
       "25%      3.000000e+00\n",
       "50%      5.000000e+00\n",
       "75%      5.000000e+00\n",
       "max      5.000000e+00\n",
       "Name: rating, dtype: float64"
      ]
     },
     "execution_count": 10,
     "metadata": {},
     "output_type": "execute_result"
    }
   ],
   "source": [
    "# Summary statistics of rating variable\n",
    "\n",
    "df['rating'].describe()"
   ]
  },
  {
   "cell_type": "code",
   "execution_count": 11,
   "id": "45201d69",
   "metadata": {},
   "outputs": [
    {
     "data": {
      "image/png": "iVBORw0KGgoAAAANSUhEUgAAA9UAAAIBCAYAAABHkpySAAAAOXRFWHRTb2Z0d2FyZQBNYXRwbG90bGliIHZlcnNpb24zLjcuMSwgaHR0cHM6Ly9tYXRwbG90bGliLm9yZy/bCgiHAAAACXBIWXMAAA9hAAAPYQGoP6dpAAAhjklEQVR4nO3df2xdhXn44ddJiA0pdtWkmGR1nHRsSZoAI/ZEHepVg+IqjfprqxaKmjA12XChq1Kvk+JFGm20zvwBWWhHAqGFNtuaeVXaaVu8gqdRGpZSFc9BVIOVdaS2gk1IttlZy5zh3O8fCPfr2gm5b4yvHT+PdCTuuefc+17p+HI/OfdHWaFQKAQAAABQtFmlHgAAAACmK1ENAAAASaIaAAAAkkQ1AAAAJIlqAAAASBLVAAAAkCSqAQAAIGlOqQc4F6dPn44XXnghLr300igrKyv1OAAAAFzgCoVCnDx5MhYtWhSzZp35fPS0iOoXXnghampqSj0GAAAAM0xvb2+87W1vO+P10yKqL7300oh49cFUVlaWeBoAAAAudIODg1FTUzPSo2cyLaL6tbd8V1ZWimoAAAAmzet9BNkXlQEAAECSqAYAAIAkUQ0AAABJohoAAACSRDUAAAAkiWoAAABIEtUAAACQJKoBAAAgSVQDAABAkqgGAACAJFENAAAASaIaAAAAkkQ1AAAAJIlqAAAASBLVAAAAkCSqAQAAIElUAwAAQJKoBgAAgCRRDQAAAElzSj3AhW7J1gOlHmHGOXLnulKPAAAAzBDOVAMAAECSqAYAAIAkUQ0AAABJohoAAACSRDUAAAAkiWoAAABIEtUAAACQJKoBAAAgSVQDAABAkqgGAACAJFENAAAASaIaAAAAkkQ1AAAAJIlqAAAASBLVAAAAkCSqAQAAIElUAwAAQJKoBgAAgCRRDQAAAEmiGgAAAJJENQAAACSJagAAAEgS1QAAAJAkqgEAACBJVAMAAECSqAYAAIAkUQ0AAABJohoAAACSRDUAAAAkiWoAAABIEtUAAACQJKoBAAAgSVQDAABAkqgGAACAJFENAAAASaIaAAAAkkQ1AAAAJIlqAAAASBLVAAAAkCSqAQAAICkV1bt27YqlS5dGRUVF1NXVxcGDB8+47be//e0oKysbszz77LPpoQEAAGAqKDqq29vbY8uWLbFt27bo7u6OxsbGWLt2bfT09Jx1v3/7t3+Lvr6+keWXfumX0kMDAADAVFB0VO/YsSM2bdoUmzdvjhUrVsTOnTujpqYmdu/efdb9Lrvssrj88stHltmzZ59x26GhoRgcHBy1AAAAwFRTVFSfOnUqurq6oqmpadT6pqamOHTo0Fn3veaaa2LhwoVxww03xKOPPnrWbdva2qKqqmpkqampKWZMAAAAmBRFRfXx48djeHg4qqurR62vrq6O/v7+cfdZuHBh7NmzJ/bv3x/f+MY3YtmyZXHDDTfEd77znTPeT2trawwMDIwsvb29xYwJAAAAk2JOZqeysrJRlwuFwph1r1m2bFksW7Zs5HJDQ0P09vbGXXfdFb/2a7827j7l5eVRXl6eGQ0AAAAmTVFnqhcsWBCzZ88ec1b62LFjY85en8073/nOeO6554q5awAAAJhyiorquXPnRl1dXXR2do5a39nZGWvWrDnn2+nu7o6FCxcWc9cAAAAw5RT99u+WlpbYsGFD1NfXR0NDQ+zZsyd6enqiubk5Il79PPTRo0dj7969ERGxc+fOWLJkSaxcuTJOnToVf/EXfxH79++P/fv3T+wjAQAAgElWdFSvX78+Tpw4Edu3b4++vr5YtWpVdHR0RG1tbURE9PX1jfrN6lOnTsVnPvOZOHr0aFx88cWxcuXKOHDgQLzvfe+buEcBAAAAJVBWKBQKpR7i9QwODkZVVVUMDAxEZWVlqccpypKtB0o9woxz5M51pR4BAACY5s61Q4v6TDUAAADwM6IaAAAAkkQ1AAAAJIlqAAAASBLVAAAAkCSqAQAAIElUAwAAQJKoBgAAgCRRDQAAAEmiGgAAAJJENQAAACSJagAAAEgS1QAAAJAkqgEAACBJVAMAAECSqAYAAIAkUQ0AAABJohoAAACSRDUAAAAkiWoAAABIEtUAAACQJKoBAAAgSVQDAABAkqgGAACAJFENAAAASaIaAAAAkkQ1AAAAJIlqAAAASBLVAAAAkCSqAQAAIElUAwAAQJKoBgAAgCRRDQAAAEmiGgAAAJJENQAAACSJagAAAEgS1QAAAJAkqgEAACBJVAMAAECSqAYAAIAkUQ0AAABJohoAAACSRDUAAAAkiWoAAABIEtUAAACQJKoBAAAgSVQDAABAkqgGAACAJFENAAAASaIaAAAAkkQ1AAAAJIlqAAAASBLVAAAAkCSqAQAAIElUAwAAQJKoBgAAgCRRDQAAAEmiGgAAAJJENQAAACSJagAAAEgS1QAAAJAkqgEAACBJVAMAAECSqAYAAIAkUQ0AAABJohoAAACSRDUAAAAkiWoAAABISkX1rl27YunSpVFRURF1dXVx8ODBc9rvn//5n2POnDnxK7/yK5m7BQAAgCml6Khub2+PLVu2xLZt26K7uzsaGxtj7dq10dPTc9b9BgYGYuPGjXHDDTekhwUAAICppOio3rFjR2zatCk2b94cK1asiJ07d0ZNTU3s3r37rPvdeuutcfPNN0dDQ8Pr3sfQ0FAMDg6OWgAAAGCqKSqqT506FV1dXdHU1DRqfVNTUxw6dOiM+z300EPxox/9KO64445zup+2traoqqoaWWpqaooZEwAAACZFUVF9/PjxGB4ejurq6lHrq6uro7+/f9x9nnvuudi6dWv85V/+ZcyZM+ec7qe1tTUGBgZGlt7e3mLGBAAAgElxbpX7c8rKykZdLhQKY9ZFRAwPD8fNN98cn/vc5+KXf/mXz/n2y8vLo7y8PDMaAAAATJqionrBggUxe/bsMWeljx07NubsdUTEyZMn48knn4zu7u745Cc/GRERp0+fjkKhEHPmzIlHHnkkrr/++vMYHwAAAEqnqLd/z507N+rq6qKzs3PU+s7OzlizZs2Y7SsrK+Ppp5+Ow4cPjyzNzc2xbNmyOHz4cFx77bXnNz0AAACUUNFv/25paYkNGzZEfX19NDQ0xJ49e6Knpyeam5sj4tXPQx89ejT27t0bs2bNilWrVo3a/7LLLouKioox6wEAAGC6KTqq169fHydOnIjt27dHX19frFq1Kjo6OqK2tjYiIvr6+l73N6sBAADgQlBWKBQKpR7i9QwODkZVVVUMDAxEZWVlqccpypKtB0o9woxz5M51pR4BAACY5s61Q4v6TDUAAADwM6IaAAAAkkQ1AAAAJIlqAAAASBLVAAAAkCSqAQAAIElUAwAAQJKoBgAAgCRRDQAAAEmiGgAAAJJENQAAACSJagAAAEgS1QAAAJAkqgEAACBJVAMAAECSqAYAAIAkUQ0AAABJohoAAACSRDUAAAAkiWoAAABIEtUAAACQJKoBAAAgSVQDAABAkqgGAACAJFENAAAASaIaAAAAkkQ1AAAAJIlqAAAASBLVAAAAkCSqAQAAIElUAwAAQJKoBgAAgCRRDQAAAEmiGgAAAJJENQAAACSJagAAAEgS1QAAAJAkqgEAACBJVAMAAECSqAYAAIAkUQ0AAABJohoAAACSRDUAAAAkiWoAAABIEtUAAACQJKoBAAAgSVQDAABAkqgGAACAJFENAAAASaIaAAAAkkQ1AAAAJIlqAAAASBLVAAAAkCSqAQAAIElUAwAAQJKoBgAAgCRRDQAAAEmiGgAAAJJENQAAACSJagAAAEgS1QAAAJAkqgEAACBJVAMAAECSqAYAAIAkUQ0AAABJohoAAACSRDUAAAAkiWoAAABISkX1rl27YunSpVFRURF1dXVx8ODBM277+OOPx3XXXRfz58+Piy++OJYvXx5/+qd/mh4YAAAApoo5xe7Q3t4eW7ZsiV27dsV1110X999/f6xduzb+9V//NRYvXjxm+3nz5sUnP/nJuOqqq2LevHnx+OOPx6233hrz5s2L3/3d352QBwEAAAClUFYoFArF7HDttdfG6tWrY/fu3SPrVqxYER/60Ieira3tnG7jN37jN2LevHnx53/+5+e0/eDgYFRVVcXAwEBUVlYWM27JLdl6oNQjzDhH7lxX6hEAAIBp7lw7tKi3f586dSq6urqiqalp1PqmpqY4dOjQOd1Gd3d3HDp0KN797nefcZuhoaEYHBwctQAAAMBUU1RUHz9+PIaHh6O6unrU+urq6ujv7z/rvm9729uivLw86uvr4/bbb4/Nmzefcdu2traoqqoaWWpqaooZEwAAACZF6ovKysrKRl0uFApj1v28gwcPxpNPPhn33Xdf7Ny5M/bt23fGbVtbW2NgYGBk6e3tzYwJAAAAb6iivqhswYIFMXv27DFnpY8dOzbm7PXPW7p0aUREXHnllfHiiy/GZz/72fjoRz867rbl5eVRXl5ezGgAAAAw6Yo6Uz137tyoq6uLzs7OUes7OztjzZo153w7hUIhhoaGirlrAAAAmHKK/kmtlpaW2LBhQ9TX10dDQ0Ps2bMnenp6orm5OSJefev20aNHY+/evRERce+998bixYtj+fLlEfHq71bfdddd8Xu/93sT+DAAAABg8hUd1evXr48TJ07E9u3bo6+vL1atWhUdHR1RW1sbERF9fX3R09Mzsv3p06ejtbU1nn/++ZgzZ0784i/+Ytx5551x6623TtyjAAAAgBIo+neqS8HvVFMMv1MNAACcrzfkd6oBAACAnxHVAAAAkCSqAQAAIElUAwAAQJKoBgAAgCRRDQAAAEmiGgAAAJJENQAAACSJagAAAEgS1QAAAJAkqgEAACBJVAMAAECSqAYAAIAkUQ0AAABJohoAAACSRDUAAAAkiWoAAABIEtUAAACQJKoBAAAgSVQDAABAkqgGAACAJFENAAAASaIaAAAAkkQ1AAAAJIlqAAAASBLVAAAAkCSqAQAAIElUAwAAQJKoBgAAgCRRDQAAAEmiGgAAAJJENQAAACSJagAAAEgS1QAAAJAkqgEAACBJVAMAAECSqAYAAIAkUQ0AAABJohoAAACSRDUAAAAkiWoAAABIEtUAAACQJKoBAAAgSVQDAABAkqgGAACAJFENAAAASaIaAAAAkkQ1AAAAJIlqAAAASBLVAAAAkCSqAQAAIElUAwAAQJKoBgAAgCRRDQAAAEmiGgAAAJJENQAAACSJagAAAEgS1QAAAJAkqgEAACBJVAMAAECSqAYAAIAkUQ0AAABJohoAAACSRDUAAAAkiWoAAABIEtUAAACQJKoBAAAgSVQDAABAUiqqd+3aFUuXLo2Kioqoq6uLgwcPnnHbb3zjG3HjjTfGW9/61qisrIyGhoZ4+OGH0wMDAADAVFF0VLe3t8eWLVti27Zt0d3dHY2NjbF27dro6ekZd/vvfOc7ceONN0ZHR0d0dXXFr//6r8f73//+6O7uPu/hAQAAoJTKCoVCoZgdrr322li9enXs3r17ZN2KFSviQx/6ULS1tZ3TbaxcuTLWr18ff/RHf3RO2w8ODkZVVVUMDAxEZWVlMeOW3JKtB0o9woxz5M51pR4BAACY5s61Q4s6U33q1Kno6uqKpqamUeubmpri0KFD53Qbp0+fjpMnT8Zb3vKWM24zNDQUg4ODoxYAAACYaoqK6uPHj8fw8HBUV1ePWl9dXR39/f3ndBt33313/OQnP4nf+q3fOuM2bW1tUVVVNbLU1NQUMyYAAABMitQXlZWVlY26XCgUxqwbz759++Kzn/1stLe3x2WXXXbG7VpbW2NgYGBk6e3tzYwJAAAAb6g5xWy8YMGCmD179piz0seOHRtz9vrntbe3x6ZNm+LrX/96vOc97znrtuXl5VFeXl7MaAAAADDpijpTPXfu3Kirq4vOzs5R6zs7O2PNmjVn3G/fvn3x27/92/G1r30t1q3zJVIAAABcGIo6Ux0R0dLSEhs2bIj6+vpoaGiIPXv2RE9PTzQ3N0fEq2/dPnr0aOzduzciXg3qjRs3xj333BPvfOc7R85yX3zxxVFVVTWBDwUAAAAmV9FRvX79+jhx4kRs3749+vr6YtWqVdHR0RG1tbUREdHX1zfqN6vvv//+eOWVV+L222+P22+/fWT9LbfcEl/5ylfO/xEAAABAiRT9O9Wl4HeqKYbfqQYAAM7XG/I71QAAAMDPFP32b4Cf5x0Zk887MgAApgZnqgEAACBJVAMAAECSqAYAAIAkUQ0AAABJohoAAACSRDUAAAAkiWoAAABIEtUAAACQJKoBAAAgSVQDAABAkqgGAACAJFENAAAASaIaAAAAkkQ1AAAAJIlqAAAASBLVAAAAkCSqAQAAIElUAwAAQJKoBgAAgCRRDQAAAEmiGgAAAJJENQAAACSJagAAAEgS1QAAAJAkqgEAACBJVAMAAECSqAYAAIAkUQ0AAABJohoAAACSRDUAAAAkiWoAAABIEtUAAACQJKoBAAAgSVQDAABAkqgGAACAJFENAAAASaIaAAAAkkQ1AAAAJIlqAAAASBLVAAAAkCSqAQAAIElUAwAAQJKoBgAAgCRRDQAAAEmiGgAAAJJENQAAACSJagAAAEgS1QAAAJAkqgEAACBJVAMAAECSqAYAAIAkUQ0AAABJohoAAACSRDUAAAAkiWoAAABIEtUAAACQJKoBAAAgSVQDAABA0pxSDwAA08GSrQdKPcKMc+TOdaUeAQBelzPVAAAAkCSqAQAAIElUAwAAQJKoBgAAgCRRDQAAAEmiGgAAAJJENQAAACSlonrXrl2xdOnSqKioiLq6ujh48OAZt+3r64ubb745li1bFrNmzYotW7ZkZwUAAIAppeiobm9vjy1btsS2bduiu7s7GhsbY+3atdHT0zPu9kNDQ/HWt741tm3bFldfffV5DwwAAABTRdFRvWPHjti0aVNs3rw5VqxYETt37oyamprYvXv3uNsvWbIk7rnnnti4cWNUVVWd98AAAAAwVRQV1adOnYqurq5oamoatb6pqSkOHTo0YUMNDQ3F4ODgqAUAAACmmqKi+vjx4zE8PBzV1dWj1ldXV0d/f/+EDdXW1hZVVVUjS01NzYTdNgAAAEyU1BeVlZWVjbpcKBTGrDsfra2tMTAwMLL09vZO2G0DAADARJlTzMYLFiyI2bNnjzkrfezYsTFnr89HeXl5lJeXT9jtAQAAwBuhqDPVc+fOjbq6uujs7By1vrOzM9asWTOhgwEAAMBUV9SZ6oiIlpaW2LBhQ9TX10dDQ0Ps2bMnenp6orm5OSJefev20aNHY+/evSP7HD58OCIi/ud//ideeumlOHz4cMydOzfe8Y53TMyjAAAAgBIoOqrXr18fJ06ciO3bt0dfX1+sWrUqOjo6ora2NiIi+vr6xvxm9TXXXDPy311dXfG1r30tamtr48iRI+c3PQAAAJRQ0VEdEXHbbbfFbbfdNu51X/nKV8asKxQKmbsBAACAKS317d8AAACAqAYAAIA0UQ0AAABJohoAAACSRDUAAAAkiWoAAABIEtUAAACQJKoBAAAgaU6pBwAAYGpYsvVAqUeYcY7cua7UIwDnyZlqAAAASBLVAAAAkCSqAQAAIElUAwAAQJKoBgAAgCRRDQAAAEmiGgAAAJJENQAAACSJagAAAEgS1QAAAJAkqgEAACBJVAMAAECSqAYAAIAkUQ0AAABJohoAAACSRDUAAAAkiWoAAABImlPqAQAAACbLkq0HSj3CjHPkznWlHuEN5Uw1AAAAJIlqAAAASBLVAAAAkCSqAQAAIElUAwAAQJKoBgAAgCRRDQAAAEmiGgAAAJJENQAAACSJagAAAEgS1QAAAJAkqgEAACBJVAMAAECSqAYAAIAkUQ0AAABJohoAAACSRDUAAAAkiWoAAABIEtUAAACQJKoBAAAgSVQDAABAkqgGAACAJFENAAAASaIaAAAAkkQ1AAAAJIlqAAAASBLVAAAAkCSqAQAAIElUAwAAQJKoBgAAgCRRDQAAAEmiGgAAAJJENQAAACSJagAAAEgS1QAAAJAkqgEAACBJVAMAAECSqAYAAIAkUQ0AAABJohoAAACSRDUAAAAkpaJ6165dsXTp0qioqIi6uro4ePDgWbd/7LHHoq6uLioqKuLtb3973HfffalhAQAAYCopOqrb29tjy5YtsW3btuju7o7GxsZYu3Zt9PT0jLv9888/H+973/uisbExuru74w//8A/jU5/6VOzfv/+8hwcAAIBSKjqqd+zYEZs2bYrNmzfHihUrYufOnVFTUxO7d+8ed/v77rsvFi9eHDt37owVK1bE5s2b4+Mf/3jcdddd5z08AAAAlNKcYjY+depUdHV1xdatW0etb2pqikOHDo27z3e/+91oamoate69731vfPnLX47/+7//i4suumjMPkNDQzE0NDRyeWBgICIiBgcHixl3Sjg99NNSjzDjTMfjZLpznE8+x/nkc5xPPsf55HOcTz7H+eRznE++6XqcvzZ3oVA463ZFRfXx48djeHg4qqurR62vrq6O/v7+cffp7+8fd/tXXnkljh8/HgsXLhyzT1tbW3zuc58bs76mpqaYcZmhqnaWegJ44znOmQkc58wEjnNmgul+nJ88eTKqqqrOeH1RUf2asrKyUZcLhcKYda+3/XjrX9Pa2hotLS0jl0+fPh3/+Z//GfPnzz/r/TBxBgcHo6amJnp7e6OysrLU48AbwnHOTOA4ZyZwnDMTOM4nX6FQiJMnT8aiRYvOul1RUb1gwYKYPXv2mLPSx44dG3M2+jWXX375uNvPmTMn5s+fP+4+5eXlUV5ePmrdm9/85mJGZYJUVlb6o+WC5zhnJnCcMxM4zpkJHOeT62xnqF9T1BeVzZ07N+rq6qKzs3PU+s7OzlizZs24+zQ0NIzZ/pFHHon6+vpxP08NAAAA00XR3/7d0tISX/rSl+LBBx+MZ555Jj796U9HT09PNDc3R8Srb93euHHjyPbNzc3x4x//OFpaWuKZZ56JBx98ML785S/HZz7zmYl7FAAAAFACRX+mev369XHixInYvn179PX1xapVq6KjoyNqa2sjIqKvr2/Ub1YvXbo0Ojo64tOf/nTce++9sWjRovjCF74Qv/mbvzlxj4IJV15eHnfccceYt+HDhcRxzkzgOGcmcJwzEzjOp66ywut9PzgAAAAwrqLf/g0AAAC8SlQDAABAkqgGAACAJFENAAAASaIaAAAAkkQ1AAAAJBX9O9UA093w8HAcP348ysrKYv78+TF79uxSjwQAMC6vW6Y+Z6oZZXh4OF588cU4duxYDA8Pl3ocmFDf/OY347rrrotLLrkkFi1aFAsXLoxLLrkkrrvuuvibv/mbUo8HE8rzOTOB45wLmdct04eoJiL80XLhu//+++Omm26Kq666Ktrb2+Pxxx+PgwcPRnt7e1x11VVx0003xQMPPFDqMeG8eT5nJnCcc6HzumV6KSsUCoVSD0Fp3X///fGpT30qPv7xj8d73/veqK6ujkKhEMeOHYuHH344HnroofjiF78Yv/M7v1PqUSHtiiuuiNbW1ti0adO41z/44IPx+c9/Pn70ox9N8mQwcTyfMxM4zpkJvG6ZXkQ1/miZES6++OI4fPhwLFu2bNzrn3322bjmmmvi5ZdfnuTJYOJ4PmcmcJwzE3jdMr14+zdx9OjReNe73nXG69esWRMvvPDCJE4EE2/lypWxZ8+eM17/wAMPxMqVKydxIph4ns+ZCRznzARet0wvvv2bkT/au+++e9zr/dFyIbj77rtj3bp18a1vfSuampqiuro6ysrKor+/Pzo7O+PHP/5xdHR0lHpMOC+ez5kJHOfMBF63TC/e/k089thjsW7duqitrT3rH21jY2OpR4XzcuTIkdi9e3c88cQT0d/fHxERl19+eTQ0NERzc3MsWbKktAPCefJ8zkzgOGem8Lpl+hDVRIQ/WoALhedzZgLHOTCViGoAAABI8kVlABFxyy23xPXXX1/qMQAAXpfXLVOLqOZ1+aNlJviFX/iFqK2tLfUY8IbyfM5M4DhnJvC6ZWrx7d+8rkWLFsWsWf79hQtToVCIsrKy+JM/+ZNSjwJvOM/nzASOc2YCr1umFp+pBma0uXPnxlNPPRUrVqwo9SgAAExDzlQzxn/913/FV7/61Xjuuedi4cKFccstt0RNTU2px4Lz0tLSMu764eHhuPPOO2P+/PkREbFjx47JHAsmVW9vb9xxxx3x4IMPlnoUOC/PPPNMPPHEE9HQ0BDLly+PZ599Nu65554YGhqKj33sY97+zQXh5Zdfjq6urnjLW94S73jHO0Zd97//+7/x13/917Fx48YSTcf/z5lqYtGiRfH000/H/Pnz4/nnn481a9ZERMSVV14ZzzzzTJw8eTKeeOKJWL58eYknhbxZs2bF1VdfHW9+85tHrX/ssceivr4+5s2bF2VlZfFP//RPpRkQJsFTTz0Vq1evjuHh4VKPAmnf+ta34oMf/GC86U1vip/+9KfxzW9+MzZu3BhXX311FAqFeOyxx+Lhhx8W1kxrP/zhD6OpqSl6enqirKwsGhsbY9++fbFw4cKIiHjxxRdj0aJFns+nCFFNzJo1K/r7++Oyyy6Lj370o9Hf3x8HDhyISy65JIaGhuIjH/lIVFRUxNe//vVSjwppbW1t8cADD8SXvvSlUS+0LrroonjqqafG/AswTEd/+7d/e9br/+M//iN+//d/34swprU1a9bE9ddfH3/8x38cf/VXfxW33XZbfOITn4jPf/7zERGxbdu2+P73vx+PPPJIiSeFvA9/+MPxyiuvxEMPPRT//d//HS0tLfGDH/wgvv3tb8fixYtF9RQjqhkV1W9/+9vHRMf3vve9+MhHPhK9vb0lnBLO3/e///342Mc+Fu9///ujra0tLrroIlHNBWXWrFlRVlYWZ/tfe1lZmRdhTGtVVVXR1dUVV1xxRZw+fTrKy8vje9/7XqxevToiIn7wgx/Ee97znujv7y/xpJBXXV0d//iP/xhXXnnlyLrbb789/v7v/z4effTRmDdvnqieQnw1IhHx6ousiIihoaGorq4edV11dXW89NJLpRgLJtSv/uqvRldXV7z00ktRX18fTz/99MixDxeChQsXxv79++P06dPjLv/yL/9S6hFhQs2aNSsqKipGfbTn0ksvjYGBgdINBRPg5ZdfjjlzRn/91b333hsf+MAH4t3vfnf88Ic/LNFkjEdUExERN9xwQ6xevToGBwfH/JH29PTEggULSjQZTKw3velN8dWvfjVaW1vjxhtv9C+8XFDq6urOGs6vdxYbpoMlS5bEv//7v49c/u53vxuLFy8eudzb2zvyuVOYrpYvXx5PPvnkmPVf/OIX44Mf/GB84AMfKMFUnIlv/ybuuOOOUZcvueSSUZf/7u/+LhobGydzJHjD3XTTTfGud70rurq6ora2ttTjwIT4gz/4g/jJT35yxuuvuOKKePTRRydxIph4n/jEJ0b9g+iqVatGXf8P//APvqSMae/DH/5w7Nu3LzZs2DDmuj/7sz+L06dPx3333VeCyRiPz1QDAABAkrd/AwAAQJKoBgAAgCRRDQAAAEmiGgAAAJJENQAAACSJagAAAEgS1QAAAJD0/wA3FXKh0uFvaQAAAABJRU5ErkJggg==",
      "text/plain": [
       "<Figure size 1200x600 with 1 Axes>"
      ]
     },
     "metadata": {},
     "output_type": "display_data"
    }
   ],
   "source": [
    "# Creating a plot for observation\n",
    "\n",
    "plt.figure(figsize = (12, 6))\n",
    "df['rating'].value_counts(1).plot(kind='bar')\n",
    "plt.show()"
   ]
  },
  {
   "cell_type": "markdown",
   "id": "7b7dd32c",
   "metadata": {},
   "source": [
    "From the plot, we can observe that over 50% of the ratings are 5, and 20% with 4 star ratings, 10% with 1 star rating and even below for 3 star and 2 star ratings."
   ]
  },
  {
   "cell_type": "code",
   "execution_count": 12,
   "id": "75e3d83d",
   "metadata": {},
   "outputs": [
    {
     "name": "stdout",
     "output_type": "stream",
     "text": [
      "Number of unique Users in data: 4201696\n"
     ]
    }
   ],
   "source": [
    "# Number of unique users Ids\n",
    "\n",
    "print('Number of unique Users in data:', df['userId'].nunique())"
   ]
  },
  {
   "cell_type": "code",
   "execution_count": 13,
   "id": "d2a4313f",
   "metadata": {},
   "outputs": [
    {
     "name": "stdout",
     "output_type": "stream",
     "text": [
      "Number of unique Products in data: 476002\n"
     ]
    }
   ],
   "source": [
    "# Number of unique product Ids\n",
    "\n",
    "print('Number of unique Products in data:', df['productId'].nunique())"
   ]
  },
  {
   "cell_type": "code",
   "execution_count": 14,
   "id": "ceed36cc",
   "metadata": {},
   "outputs": [
    {
     "data": {
      "text/plain": [
       "userId\n",
       "A5JLAU2ARJ0BO     520\n",
       "ADLVFFE4VBT8      501\n",
       "A3OXHLG6DIBRW8    498\n",
       "A6FIAB28IS79      431\n",
       "A680RUE1FDO8B     406\n",
       "A1ODOGXEYECQQ8    380\n",
       "A36K2N527TXXJN    314\n",
       "A2AY4YUOX2N1BQ    311\n",
       "AWPODHOB4GFWL     308\n",
       "A25C2M3QF9G7OQ    296\n",
       "dtype: int64"
      ]
     },
     "execution_count": 14,
     "metadata": {},
     "output_type": "execute_result"
    }
   ],
   "source": [
    "# 10 Users with most number of ratings\n",
    "\n",
    "most_rated = df.groupby('userId').size().sort_values(ascending=False)[:10]\n",
    "most_rated"
   ]
  },
  {
   "cell_type": "code",
   "execution_count": 15,
   "id": "4d76e0fa",
   "metadata": {},
   "outputs": [],
   "source": [
    "# Preprocessing the data\n",
    "\n",
    "counts = df['userId'].value_counts()\n",
    "df_final = df[df['userId'].isin(counts[counts >= 50].index)]"
   ]
  },
  {
   "cell_type": "code",
   "execution_count": 16,
   "id": "684ca114",
   "metadata": {},
   "outputs": [
    {
     "name": "stdout",
     "output_type": "stream",
     "text": [
      "Number of observations in final dataset =  125871\n"
     ]
    }
   ],
   "source": [
    "print('Number of observations in final dataset = ', len(df_final))"
   ]
  },
  {
   "cell_type": "code",
   "execution_count": 17,
   "id": "8503ad3b",
   "metadata": {},
   "outputs": [
    {
     "name": "stdout",
     "output_type": "stream",
     "text": [
      "Number of unique Users in final dataset =  1540\n"
     ]
    }
   ],
   "source": [
    "print('Number of unique Users in final dataset = ', df_final['userId'].nunique())"
   ]
  },
  {
   "cell_type": "code",
   "execution_count": 18,
   "id": "389a7716",
   "metadata": {},
   "outputs": [
    {
     "name": "stdout",
     "output_type": "stream",
     "text": [
      "Number of unique Products in final dataset =  48190\n"
     ]
    }
   ],
   "source": [
    "print('Number of unique Products in final dataset = ', df_final['productId'].nunique())"
   ]
  },
  {
   "cell_type": "markdown",
   "id": "4eccb957",
   "metadata": {},
   "source": [
    "The final dataset contains the users who have rated 50 or more items.\n",
    "\n",
    "Now, we will use this final dataset to build recommendation system."
   ]
  },
  {
   "cell_type": "code",
   "execution_count": 19,
   "id": "2e98d518",
   "metadata": {},
   "outputs": [
    {
     "name": "stdout",
     "output_type": "stream",
     "text": [
      "Shape of final_ratings_matrix :  (1540, 48190)\n"
     ]
    }
   ],
   "source": [
    "#Creating a matrix of products and users based on ratings and replacing NaN value with 0\n",
    "\n",
    "final_ratings_matrix = df_final.pivot(index = 'userId', columns = 'productId', values = 'rating').fillna(0)\n",
    "print('Shape of final_ratings_matrix : ', final_ratings_matrix.shape)"
   ]
  },
  {
   "cell_type": "code",
   "execution_count": 20,
   "id": "e7af2fa1",
   "metadata": {},
   "outputs": [
    {
     "name": "stdout",
     "output_type": "stream",
     "text": [
      "Number of ratings given =  125871\n"
     ]
    }
   ],
   "source": [
    "# Finding the numner of non-zero entries in the matrix\n",
    "\n",
    "no_of_ratings_given = np.count_nonzero(final_ratings_matrix)\n",
    "print('Number of ratings given = ', no_of_ratings_given)"
   ]
  },
  {
   "cell_type": "code",
   "execution_count": 21,
   "id": "4ae161f4",
   "metadata": {},
   "outputs": [
    {
     "name": "stdout",
     "output_type": "stream",
     "text": [
      "Number of ratings possible =  74212600\n"
     ]
    }
   ],
   "source": [
    "no_of_ratings_poss = final_ratings_matrix.shape[0] * final_ratings_matrix.shape[1]\n",
    "print('Number of ratings possible = ', no_of_ratings_poss)"
   ]
  },
  {
   "cell_type": "code",
   "execution_count": 22,
   "id": "2beee602",
   "metadata": {},
   "outputs": [
    {
     "name": "stdout",
     "output_type": "stream",
     "text": [
      "Density: 0.17%\n"
     ]
    }
   ],
   "source": [
    "# Density of ratings\n",
    "\n",
    "density = (no_of_ratings_given / no_of_ratings_poss)\n",
    "density *= 100\n",
    "print('Density: {:4.2f}%'.format(density))"
   ]
  },
  {
   "cell_type": "code",
   "execution_count": 23,
   "id": "b1503a0f",
   "metadata": {},
   "outputs": [
    {
     "data": {
      "text/html": [
       "<div>\n",
       "<style scoped>\n",
       "    .dataframe tbody tr th:only-of-type {\n",
       "        vertical-align: middle;\n",
       "    }\n",
       "\n",
       "    .dataframe tbody tr th {\n",
       "        vertical-align: top;\n",
       "    }\n",
       "\n",
       "    .dataframe thead th {\n",
       "        text-align: right;\n",
       "    }\n",
       "</style>\n",
       "<table border=\"1\" class=\"dataframe\">\n",
       "  <thead>\n",
       "    <tr style=\"text-align: right;\">\n",
       "      <th>productId</th>\n",
       "      <th>0594451647</th>\n",
       "      <th>0594481813</th>\n",
       "      <th>0970407998</th>\n",
       "      <th>0972683275</th>\n",
       "      <th>1400501466</th>\n",
       "      <th>1400501520</th>\n",
       "      <th>1400501776</th>\n",
       "      <th>1400532620</th>\n",
       "      <th>1400532655</th>\n",
       "      <th>140053271X</th>\n",
       "      <th>...</th>\n",
       "      <th>B00L5YZCCG</th>\n",
       "      <th>B00L8I6SFY</th>\n",
       "      <th>B00L8QCVL6</th>\n",
       "      <th>B00LA6T0LS</th>\n",
       "      <th>B00LBZ1Z7K</th>\n",
       "      <th>B00LED02VY</th>\n",
       "      <th>B00LGN7Y3G</th>\n",
       "      <th>B00LGQ6HL8</th>\n",
       "      <th>B00LI4ZZO8</th>\n",
       "      <th>B00LKG1MC8</th>\n",
       "    </tr>\n",
       "    <tr>\n",
       "      <th>userId</th>\n",
       "      <th></th>\n",
       "      <th></th>\n",
       "      <th></th>\n",
       "      <th></th>\n",
       "      <th></th>\n",
       "      <th></th>\n",
       "      <th></th>\n",
       "      <th></th>\n",
       "      <th></th>\n",
       "      <th></th>\n",
       "      <th></th>\n",
       "      <th></th>\n",
       "      <th></th>\n",
       "      <th></th>\n",
       "      <th></th>\n",
       "      <th></th>\n",
       "      <th></th>\n",
       "      <th></th>\n",
       "      <th></th>\n",
       "      <th></th>\n",
       "      <th></th>\n",
       "    </tr>\n",
       "  </thead>\n",
       "  <tbody>\n",
       "    <tr>\n",
       "      <th>A100UD67AHFODS</th>\n",
       "      <td>0.0</td>\n",
       "      <td>0.0</td>\n",
       "      <td>0.0</td>\n",
       "      <td>0.0</td>\n",
       "      <td>0.0</td>\n",
       "      <td>0.0</td>\n",
       "      <td>0.0</td>\n",
       "      <td>0.0</td>\n",
       "      <td>0.0</td>\n",
       "      <td>0.0</td>\n",
       "      <td>...</td>\n",
       "      <td>0.0</td>\n",
       "      <td>0.0</td>\n",
       "      <td>0.0</td>\n",
       "      <td>0.0</td>\n",
       "      <td>0.0</td>\n",
       "      <td>0.0</td>\n",
       "      <td>0.0</td>\n",
       "      <td>0.0</td>\n",
       "      <td>0.0</td>\n",
       "      <td>0.0</td>\n",
       "    </tr>\n",
       "    <tr>\n",
       "      <th>A100WO06OQR8BQ</th>\n",
       "      <td>0.0</td>\n",
       "      <td>0.0</td>\n",
       "      <td>0.0</td>\n",
       "      <td>0.0</td>\n",
       "      <td>0.0</td>\n",
       "      <td>0.0</td>\n",
       "      <td>0.0</td>\n",
       "      <td>0.0</td>\n",
       "      <td>0.0</td>\n",
       "      <td>0.0</td>\n",
       "      <td>...</td>\n",
       "      <td>0.0</td>\n",
       "      <td>0.0</td>\n",
       "      <td>0.0</td>\n",
       "      <td>0.0</td>\n",
       "      <td>0.0</td>\n",
       "      <td>0.0</td>\n",
       "      <td>0.0</td>\n",
       "      <td>0.0</td>\n",
       "      <td>0.0</td>\n",
       "      <td>0.0</td>\n",
       "    </tr>\n",
       "    <tr>\n",
       "      <th>A105S56ODHGJEK</th>\n",
       "      <td>0.0</td>\n",
       "      <td>0.0</td>\n",
       "      <td>0.0</td>\n",
       "      <td>0.0</td>\n",
       "      <td>0.0</td>\n",
       "      <td>0.0</td>\n",
       "      <td>0.0</td>\n",
       "      <td>0.0</td>\n",
       "      <td>0.0</td>\n",
       "      <td>0.0</td>\n",
       "      <td>...</td>\n",
       "      <td>0.0</td>\n",
       "      <td>0.0</td>\n",
       "      <td>0.0</td>\n",
       "      <td>0.0</td>\n",
       "      <td>0.0</td>\n",
       "      <td>0.0</td>\n",
       "      <td>0.0</td>\n",
       "      <td>0.0</td>\n",
       "      <td>0.0</td>\n",
       "      <td>0.0</td>\n",
       "    </tr>\n",
       "    <tr>\n",
       "      <th>A105TOJ6LTVMBG</th>\n",
       "      <td>0.0</td>\n",
       "      <td>0.0</td>\n",
       "      <td>0.0</td>\n",
       "      <td>0.0</td>\n",
       "      <td>0.0</td>\n",
       "      <td>0.0</td>\n",
       "      <td>0.0</td>\n",
       "      <td>0.0</td>\n",
       "      <td>0.0</td>\n",
       "      <td>0.0</td>\n",
       "      <td>...</td>\n",
       "      <td>0.0</td>\n",
       "      <td>0.0</td>\n",
       "      <td>0.0</td>\n",
       "      <td>0.0</td>\n",
       "      <td>0.0</td>\n",
       "      <td>0.0</td>\n",
       "      <td>0.0</td>\n",
       "      <td>0.0</td>\n",
       "      <td>0.0</td>\n",
       "      <td>0.0</td>\n",
       "    </tr>\n",
       "    <tr>\n",
       "      <th>A10AFVU66A79Y1</th>\n",
       "      <td>0.0</td>\n",
       "      <td>0.0</td>\n",
       "      <td>0.0</td>\n",
       "      <td>0.0</td>\n",
       "      <td>0.0</td>\n",
       "      <td>0.0</td>\n",
       "      <td>0.0</td>\n",
       "      <td>0.0</td>\n",
       "      <td>0.0</td>\n",
       "      <td>0.0</td>\n",
       "      <td>...</td>\n",
       "      <td>0.0</td>\n",
       "      <td>0.0</td>\n",
       "      <td>0.0</td>\n",
       "      <td>0.0</td>\n",
       "      <td>0.0</td>\n",
       "      <td>0.0</td>\n",
       "      <td>0.0</td>\n",
       "      <td>0.0</td>\n",
       "      <td>0.0</td>\n",
       "      <td>0.0</td>\n",
       "    </tr>\n",
       "  </tbody>\n",
       "</table>\n",
       "<p>5 rows × 48190 columns</p>\n",
       "</div>"
      ],
      "text/plain": [
       "productId       0594451647  0594481813  0970407998  0972683275  1400501466  \\\n",
       "userId                                                                       \n",
       "A100UD67AHFODS         0.0         0.0         0.0         0.0         0.0   \n",
       "A100WO06OQR8BQ         0.0         0.0         0.0         0.0         0.0   \n",
       "A105S56ODHGJEK         0.0         0.0         0.0         0.0         0.0   \n",
       "A105TOJ6LTVMBG         0.0         0.0         0.0         0.0         0.0   \n",
       "A10AFVU66A79Y1         0.0         0.0         0.0         0.0         0.0   \n",
       "\n",
       "productId       1400501520  1400501776  1400532620  1400532655  140053271X  \\\n",
       "userId                                                                       \n",
       "A100UD67AHFODS         0.0         0.0         0.0         0.0         0.0   \n",
       "A100WO06OQR8BQ         0.0         0.0         0.0         0.0         0.0   \n",
       "A105S56ODHGJEK         0.0         0.0         0.0         0.0         0.0   \n",
       "A105TOJ6LTVMBG         0.0         0.0         0.0         0.0         0.0   \n",
       "A10AFVU66A79Y1         0.0         0.0         0.0         0.0         0.0   \n",
       "\n",
       "productId       ...  B00L5YZCCG  B00L8I6SFY  B00L8QCVL6  B00LA6T0LS  \\\n",
       "userId          ...                                                   \n",
       "A100UD67AHFODS  ...         0.0         0.0         0.0         0.0   \n",
       "A100WO06OQR8BQ  ...         0.0         0.0         0.0         0.0   \n",
       "A105S56ODHGJEK  ...         0.0         0.0         0.0         0.0   \n",
       "A105TOJ6LTVMBG  ...         0.0         0.0         0.0         0.0   \n",
       "A10AFVU66A79Y1  ...         0.0         0.0         0.0         0.0   \n",
       "\n",
       "productId       B00LBZ1Z7K  B00LED02VY  B00LGN7Y3G  B00LGQ6HL8  B00LI4ZZO8  \\\n",
       "userId                                                                       \n",
       "A100UD67AHFODS         0.0         0.0         0.0         0.0         0.0   \n",
       "A100WO06OQR8BQ         0.0         0.0         0.0         0.0         0.0   \n",
       "A105S56ODHGJEK         0.0         0.0         0.0         0.0         0.0   \n",
       "A105TOJ6LTVMBG         0.0         0.0         0.0         0.0         0.0   \n",
       "A10AFVU66A79Y1         0.0         0.0         0.0         0.0         0.0   \n",
       "\n",
       "productId       B00LKG1MC8  \n",
       "userId                      \n",
       "A100UD67AHFODS         0.0  \n",
       "A100WO06OQR8BQ         0.0  \n",
       "A105S56ODHGJEK         0.0  \n",
       "A105TOJ6LTVMBG         0.0  \n",
       "A10AFVU66A79Y1         0.0  \n",
       "\n",
       "[5 rows x 48190 columns]"
      ]
     },
     "execution_count": 23,
     "metadata": {},
     "output_type": "execute_result"
    }
   ],
   "source": [
    "final_ratings_matrix.head()"
   ]
  },
  {
   "cell_type": "code",
   "execution_count": null,
   "id": "49a8585a",
   "metadata": {},
   "outputs": [],
   "source": []
  },
  {
   "cell_type": "code",
   "execution_count": null,
   "id": "1d4425d8",
   "metadata": {},
   "outputs": [],
   "source": []
  },
  {
   "cell_type": "code",
   "execution_count": null,
   "id": "cb5e237d",
   "metadata": {},
   "outputs": [],
   "source": []
  },
  {
   "cell_type": "code",
   "execution_count": null,
   "id": "30d2ef1b",
   "metadata": {},
   "outputs": [],
   "source": []
  },
  {
   "cell_type": "markdown",
   "id": "b08fd614",
   "metadata": {},
   "source": [
    "\n",
    "\n",
    "Rank Based Recommendation System"
   ]
  },
  {
   "cell_type": "code",
   "execution_count": 24,
   "id": "0bd18dbf",
   "metadata": {},
   "outputs": [
    {
     "data": {
      "text/plain": [
       "productId\n",
       "0594451647    5.000000\n",
       "0594481813    3.000000\n",
       "0970407998    2.500000\n",
       "0972683275    4.750000\n",
       "1400501466    3.333333\n",
       "                ...   \n",
       "B00LED02VY    4.000000\n",
       "B00LGN7Y3G    5.000000\n",
       "B00LGQ6HL8    5.000000\n",
       "B00LI4ZZO8    4.500000\n",
       "B00LKG1MC8    5.000000\n",
       "Name: rating, Length: 48190, dtype: float64"
      ]
     },
     "execution_count": 24,
     "metadata": {},
     "output_type": "execute_result"
    }
   ],
   "source": [
    "# Calculate the average rating for each product\n",
    "\n",
    "avg_rating = df_final.groupby('productId').mean()['rating']\n",
    "avg_rating"
   ]
  },
  {
   "cell_type": "code",
   "execution_count": 25,
   "id": "9f7f86a2",
   "metadata": {},
   "outputs": [
    {
     "data": {
      "text/plain": [
       "productId\n",
       "0594451647    1\n",
       "0594481813    1\n",
       "0970407998    2\n",
       "0972683275    4\n",
       "1400501466    6\n",
       "             ..\n",
       "B00LED02VY    1\n",
       "B00LGN7Y3G    1\n",
       "B00LGQ6HL8    5\n",
       "B00LI4ZZO8    2\n",
       "B00LKG1MC8    1\n",
       "Name: rating, Length: 48190, dtype: int64"
      ]
     },
     "execution_count": 25,
     "metadata": {},
     "output_type": "execute_result"
    }
   ],
   "source": [
    "# Calculate the count of ratings for each product\n",
    "\n",
    "rating_count = df_final.groupby('productId').count()['rating']\n",
    "rating_count"
   ]
  },
  {
   "cell_type": "code",
   "execution_count": 26,
   "id": "2a18a4a7",
   "metadata": {},
   "outputs": [],
   "source": [
    "# Create a dataframe with calculated average and count of ratings\n",
    "\n",
    "final_rating = pd.DataFrame({'avg_rating': avg_rating, 'rating_count': rating_count})"
   ]
  },
  {
   "cell_type": "code",
   "execution_count": 27,
   "id": "8f38ba33",
   "metadata": {},
   "outputs": [],
   "source": [
    "# sort the dataframe by average of ratings\n",
    "\n",
    "final_rating = final_rating.sort_values(by = 'avg_rating', ascending = False)"
   ]
  },
  {
   "cell_type": "code",
   "execution_count": 28,
   "id": "4f36d7f7",
   "metadata": {},
   "outputs": [
    {
     "data": {
      "text/html": [
       "<div>\n",
       "<style scoped>\n",
       "    .dataframe tbody tr th:only-of-type {\n",
       "        vertical-align: middle;\n",
       "    }\n",
       "\n",
       "    .dataframe tbody tr th {\n",
       "        vertical-align: top;\n",
       "    }\n",
       "\n",
       "    .dataframe thead th {\n",
       "        text-align: right;\n",
       "    }\n",
       "</style>\n",
       "<table border=\"1\" class=\"dataframe\">\n",
       "  <thead>\n",
       "    <tr style=\"text-align: right;\">\n",
       "      <th></th>\n",
       "      <th>avg_rating</th>\n",
       "      <th>rating_count</th>\n",
       "    </tr>\n",
       "    <tr>\n",
       "      <th>productId</th>\n",
       "      <th></th>\n",
       "      <th></th>\n",
       "    </tr>\n",
       "  </thead>\n",
       "  <tbody>\n",
       "    <tr>\n",
       "      <th>0594451647</th>\n",
       "      <td>5.0</td>\n",
       "      <td>1</td>\n",
       "    </tr>\n",
       "    <tr>\n",
       "      <th>B003RRY9RS</th>\n",
       "      <td>5.0</td>\n",
       "      <td>1</td>\n",
       "    </tr>\n",
       "    <tr>\n",
       "      <th>B003RR95Q8</th>\n",
       "      <td>5.0</td>\n",
       "      <td>1</td>\n",
       "    </tr>\n",
       "    <tr>\n",
       "      <th>B003RIPMZU</th>\n",
       "      <td>5.0</td>\n",
       "      <td>1</td>\n",
       "    </tr>\n",
       "    <tr>\n",
       "      <th>B003RFRNYQ</th>\n",
       "      <td>5.0</td>\n",
       "      <td>2</td>\n",
       "    </tr>\n",
       "  </tbody>\n",
       "</table>\n",
       "</div>"
      ],
      "text/plain": [
       "            avg_rating  rating_count\n",
       "productId                           \n",
       "0594451647         5.0             1\n",
       "B003RRY9RS         5.0             1\n",
       "B003RR95Q8         5.0             1\n",
       "B003RIPMZU         5.0             1\n",
       "B003RFRNYQ         5.0             2"
      ]
     },
     "execution_count": 28,
     "metadata": {},
     "output_type": "execute_result"
    }
   ],
   "source": [
    "final_rating.head()"
   ]
  },
  {
   "cell_type": "code",
   "execution_count": 29,
   "id": "a491feb7",
   "metadata": {},
   "outputs": [],
   "source": [
    "# Defining a function to get the top n products based on highest average rating and minimum interactions\n",
    "\n",
    "def top_n_products(final_rating, n, min_interaction):\n",
    "    recommendations = final_rating[final_rating['rating_count'] > min_interaction]\n",
    "    recommendations = recommendations.sort_values('avg_rating', ascending = False)\n",
    "    return recommendations.index[:n]"
   ]
  },
  {
   "cell_type": "code",
   "execution_count": 30,
   "id": "3a27ead2",
   "metadata": {},
   "outputs": [
    {
     "data": {
      "text/plain": [
       "['B001TH7GUU', 'B003ES5ZUU', 'B0019EHU8G', 'B006W8U2MU', 'B000QUUFRW']"
      ]
     },
     "execution_count": 30,
     "metadata": {},
     "output_type": "execute_result"
    }
   ],
   "source": [
    "# Recommending top 5 products with 50 minimum interactions based on popularity\n",
    "\n",
    "list(top_n_products(final_rating, 5, 50))"
   ]
  },
  {
   "cell_type": "code",
   "execution_count": 31,
   "id": "eff2243a",
   "metadata": {},
   "outputs": [
    {
     "data": {
      "text/plain": [
       "['B003ES5ZUU', 'B000N99BBC', 'B007WTAJTO', 'B002V88HFE', 'B004CLYEDC']"
      ]
     },
     "execution_count": 31,
     "metadata": {},
     "output_type": "execute_result"
    }
   ],
   "source": [
    "# Recommending top 5 products with minimum 100 interacations based on popularity\n",
    "\n",
    "list(top_n_products(final_rating, 5, 100))"
   ]
  },
  {
   "cell_type": "code",
   "execution_count": null,
   "id": "464b9dc3",
   "metadata": {},
   "outputs": [],
   "source": []
  },
  {
   "cell_type": "code",
   "execution_count": null,
   "id": "66b5954e",
   "metadata": {},
   "outputs": [],
   "source": []
  },
  {
   "cell_type": "code",
   "execution_count": null,
   "id": "b48dece6",
   "metadata": {},
   "outputs": [],
   "source": []
  },
  {
   "cell_type": "code",
   "execution_count": null,
   "id": "093e555f",
   "metadata": {},
   "outputs": [],
   "source": []
  },
  {
   "cell_type": "markdown",
   "id": "00cbd306",
   "metadata": {},
   "source": [
    "Collaborative Filtering based Recommendation System"
   ]
  },
  {
   "cell_type": "markdown",
   "id": "0f7e0776",
   "metadata": {},
   "source": [
    "User Based Collaborative Filtering"
   ]
  },
  {
   "cell_type": "code",
   "execution_count": 32,
   "id": "ae303b43",
   "metadata": {},
   "outputs": [
    {
     "data": {
      "text/html": [
       "<div>\n",
       "<style scoped>\n",
       "    .dataframe tbody tr th:only-of-type {\n",
       "        vertical-align: middle;\n",
       "    }\n",
       "\n",
       "    .dataframe tbody tr th {\n",
       "        vertical-align: top;\n",
       "    }\n",
       "\n",
       "    .dataframe thead th {\n",
       "        text-align: right;\n",
       "    }\n",
       "</style>\n",
       "<table border=\"1\" class=\"dataframe\">\n",
       "  <thead>\n",
       "    <tr style=\"text-align: right;\">\n",
       "      <th>productId</th>\n",
       "      <th>0594451647</th>\n",
       "      <th>0594481813</th>\n",
       "      <th>0970407998</th>\n",
       "      <th>0972683275</th>\n",
       "      <th>1400501466</th>\n",
       "      <th>1400501520</th>\n",
       "      <th>1400501776</th>\n",
       "      <th>1400532620</th>\n",
       "      <th>1400532655</th>\n",
       "      <th>140053271X</th>\n",
       "      <th>...</th>\n",
       "      <th>B00L5YZCCG</th>\n",
       "      <th>B00L8I6SFY</th>\n",
       "      <th>B00L8QCVL6</th>\n",
       "      <th>B00LA6T0LS</th>\n",
       "      <th>B00LBZ1Z7K</th>\n",
       "      <th>B00LED02VY</th>\n",
       "      <th>B00LGN7Y3G</th>\n",
       "      <th>B00LGQ6HL8</th>\n",
       "      <th>B00LI4ZZO8</th>\n",
       "      <th>B00LKG1MC8</th>\n",
       "    </tr>\n",
       "    <tr>\n",
       "      <th>userId</th>\n",
       "      <th></th>\n",
       "      <th></th>\n",
       "      <th></th>\n",
       "      <th></th>\n",
       "      <th></th>\n",
       "      <th></th>\n",
       "      <th></th>\n",
       "      <th></th>\n",
       "      <th></th>\n",
       "      <th></th>\n",
       "      <th></th>\n",
       "      <th></th>\n",
       "      <th></th>\n",
       "      <th></th>\n",
       "      <th></th>\n",
       "      <th></th>\n",
       "      <th></th>\n",
       "      <th></th>\n",
       "      <th></th>\n",
       "      <th></th>\n",
       "      <th></th>\n",
       "    </tr>\n",
       "  </thead>\n",
       "  <tbody>\n",
       "    <tr>\n",
       "      <th>A100UD67AHFODS</th>\n",
       "      <td>0.0</td>\n",
       "      <td>0.0</td>\n",
       "      <td>0.0</td>\n",
       "      <td>0.0</td>\n",
       "      <td>0.0</td>\n",
       "      <td>0.0</td>\n",
       "      <td>0.0</td>\n",
       "      <td>0.0</td>\n",
       "      <td>0.0</td>\n",
       "      <td>0.0</td>\n",
       "      <td>...</td>\n",
       "      <td>0.0</td>\n",
       "      <td>0.0</td>\n",
       "      <td>0.0</td>\n",
       "      <td>0.0</td>\n",
       "      <td>0.0</td>\n",
       "      <td>0.0</td>\n",
       "      <td>0.0</td>\n",
       "      <td>0.0</td>\n",
       "      <td>0.0</td>\n",
       "      <td>0.0</td>\n",
       "    </tr>\n",
       "    <tr>\n",
       "      <th>A100WO06OQR8BQ</th>\n",
       "      <td>0.0</td>\n",
       "      <td>0.0</td>\n",
       "      <td>0.0</td>\n",
       "      <td>0.0</td>\n",
       "      <td>0.0</td>\n",
       "      <td>0.0</td>\n",
       "      <td>0.0</td>\n",
       "      <td>0.0</td>\n",
       "      <td>0.0</td>\n",
       "      <td>0.0</td>\n",
       "      <td>...</td>\n",
       "      <td>0.0</td>\n",
       "      <td>0.0</td>\n",
       "      <td>0.0</td>\n",
       "      <td>0.0</td>\n",
       "      <td>0.0</td>\n",
       "      <td>0.0</td>\n",
       "      <td>0.0</td>\n",
       "      <td>0.0</td>\n",
       "      <td>0.0</td>\n",
       "      <td>0.0</td>\n",
       "    </tr>\n",
       "    <tr>\n",
       "      <th>A105S56ODHGJEK</th>\n",
       "      <td>0.0</td>\n",
       "      <td>0.0</td>\n",
       "      <td>0.0</td>\n",
       "      <td>0.0</td>\n",
       "      <td>0.0</td>\n",
       "      <td>0.0</td>\n",
       "      <td>0.0</td>\n",
       "      <td>0.0</td>\n",
       "      <td>0.0</td>\n",
       "      <td>0.0</td>\n",
       "      <td>...</td>\n",
       "      <td>0.0</td>\n",
       "      <td>0.0</td>\n",
       "      <td>0.0</td>\n",
       "      <td>0.0</td>\n",
       "      <td>0.0</td>\n",
       "      <td>0.0</td>\n",
       "      <td>0.0</td>\n",
       "      <td>0.0</td>\n",
       "      <td>0.0</td>\n",
       "      <td>0.0</td>\n",
       "    </tr>\n",
       "    <tr>\n",
       "      <th>A105TOJ6LTVMBG</th>\n",
       "      <td>0.0</td>\n",
       "      <td>0.0</td>\n",
       "      <td>0.0</td>\n",
       "      <td>0.0</td>\n",
       "      <td>0.0</td>\n",
       "      <td>0.0</td>\n",
       "      <td>0.0</td>\n",
       "      <td>0.0</td>\n",
       "      <td>0.0</td>\n",
       "      <td>0.0</td>\n",
       "      <td>...</td>\n",
       "      <td>0.0</td>\n",
       "      <td>0.0</td>\n",
       "      <td>0.0</td>\n",
       "      <td>0.0</td>\n",
       "      <td>0.0</td>\n",
       "      <td>0.0</td>\n",
       "      <td>0.0</td>\n",
       "      <td>0.0</td>\n",
       "      <td>0.0</td>\n",
       "      <td>0.0</td>\n",
       "    </tr>\n",
       "    <tr>\n",
       "      <th>A10AFVU66A79Y1</th>\n",
       "      <td>0.0</td>\n",
       "      <td>0.0</td>\n",
       "      <td>0.0</td>\n",
       "      <td>0.0</td>\n",
       "      <td>0.0</td>\n",
       "      <td>0.0</td>\n",
       "      <td>0.0</td>\n",
       "      <td>0.0</td>\n",
       "      <td>0.0</td>\n",
       "      <td>0.0</td>\n",
       "      <td>...</td>\n",
       "      <td>0.0</td>\n",
       "      <td>0.0</td>\n",
       "      <td>0.0</td>\n",
       "      <td>0.0</td>\n",
       "      <td>0.0</td>\n",
       "      <td>0.0</td>\n",
       "      <td>0.0</td>\n",
       "      <td>0.0</td>\n",
       "      <td>0.0</td>\n",
       "      <td>0.0</td>\n",
       "    </tr>\n",
       "  </tbody>\n",
       "</table>\n",
       "<p>5 rows × 48190 columns</p>\n",
       "</div>"
      ],
      "text/plain": [
       "productId       0594451647  0594481813  0970407998  0972683275  1400501466  \\\n",
       "userId                                                                       \n",
       "A100UD67AHFODS         0.0         0.0         0.0         0.0         0.0   \n",
       "A100WO06OQR8BQ         0.0         0.0         0.0         0.0         0.0   \n",
       "A105S56ODHGJEK         0.0         0.0         0.0         0.0         0.0   \n",
       "A105TOJ6LTVMBG         0.0         0.0         0.0         0.0         0.0   \n",
       "A10AFVU66A79Y1         0.0         0.0         0.0         0.0         0.0   \n",
       "\n",
       "productId       1400501520  1400501776  1400532620  1400532655  140053271X  \\\n",
       "userId                                                                       \n",
       "A100UD67AHFODS         0.0         0.0         0.0         0.0         0.0   \n",
       "A100WO06OQR8BQ         0.0         0.0         0.0         0.0         0.0   \n",
       "A105S56ODHGJEK         0.0         0.0         0.0         0.0         0.0   \n",
       "A105TOJ6LTVMBG         0.0         0.0         0.0         0.0         0.0   \n",
       "A10AFVU66A79Y1         0.0         0.0         0.0         0.0         0.0   \n",
       "\n",
       "productId       ...  B00L5YZCCG  B00L8I6SFY  B00L8QCVL6  B00LA6T0LS  \\\n",
       "userId          ...                                                   \n",
       "A100UD67AHFODS  ...         0.0         0.0         0.0         0.0   \n",
       "A100WO06OQR8BQ  ...         0.0         0.0         0.0         0.0   \n",
       "A105S56ODHGJEK  ...         0.0         0.0         0.0         0.0   \n",
       "A105TOJ6LTVMBG  ...         0.0         0.0         0.0         0.0   \n",
       "A10AFVU66A79Y1  ...         0.0         0.0         0.0         0.0   \n",
       "\n",
       "productId       B00LBZ1Z7K  B00LED02VY  B00LGN7Y3G  B00LGQ6HL8  B00LI4ZZO8  \\\n",
       "userId                                                                       \n",
       "A100UD67AHFODS         0.0         0.0         0.0         0.0         0.0   \n",
       "A100WO06OQR8BQ         0.0         0.0         0.0         0.0         0.0   \n",
       "A105S56ODHGJEK         0.0         0.0         0.0         0.0         0.0   \n",
       "A105TOJ6LTVMBG         0.0         0.0         0.0         0.0         0.0   \n",
       "A10AFVU66A79Y1         0.0         0.0         0.0         0.0         0.0   \n",
       "\n",
       "productId       B00LKG1MC8  \n",
       "userId                      \n",
       "A100UD67AHFODS         0.0  \n",
       "A100WO06OQR8BQ         0.0  \n",
       "A105S56ODHGJEK         0.0  \n",
       "A105TOJ6LTVMBG         0.0  \n",
       "A10AFVU66A79Y1         0.0  \n",
       "\n",
       "[5 rows x 48190 columns]"
      ]
     },
     "execution_count": 32,
     "metadata": {},
     "output_type": "execute_result"
    }
   ],
   "source": [
    "final_ratings_matrix.head()"
   ]
  },
  {
   "cell_type": "markdown",
   "id": "b1430ff9",
   "metadata": {},
   "source": [
    "Here, user Id is of object data type.\n",
    "We will replace the user_id by numbers from 0 so that the index is of integer type and represents a user id in the same format"
   ]
  },
  {
   "cell_type": "code",
   "execution_count": 33,
   "id": "a29da007",
   "metadata": {},
   "outputs": [],
   "source": [
    "final_ratings_matrix['userIdx'] = np.arange(0, final_ratings_matrix.shape[0])\n",
    "final_ratings_matrix.set_index(['userIdx'], inplace = True)"
   ]
  },
  {
   "cell_type": "code",
   "execution_count": 34,
   "id": "f82e3cab",
   "metadata": {},
   "outputs": [
    {
     "data": {
      "text/html": [
       "<div>\n",
       "<style scoped>\n",
       "    .dataframe tbody tr th:only-of-type {\n",
       "        vertical-align: middle;\n",
       "    }\n",
       "\n",
       "    .dataframe tbody tr th {\n",
       "        vertical-align: top;\n",
       "    }\n",
       "\n",
       "    .dataframe thead th {\n",
       "        text-align: right;\n",
       "    }\n",
       "</style>\n",
       "<table border=\"1\" class=\"dataframe\">\n",
       "  <thead>\n",
       "    <tr style=\"text-align: right;\">\n",
       "      <th>productId</th>\n",
       "      <th>0594451647</th>\n",
       "      <th>0594481813</th>\n",
       "      <th>0970407998</th>\n",
       "      <th>0972683275</th>\n",
       "      <th>1400501466</th>\n",
       "      <th>1400501520</th>\n",
       "      <th>1400501776</th>\n",
       "      <th>1400532620</th>\n",
       "      <th>1400532655</th>\n",
       "      <th>140053271X</th>\n",
       "      <th>...</th>\n",
       "      <th>B00L5YZCCG</th>\n",
       "      <th>B00L8I6SFY</th>\n",
       "      <th>B00L8QCVL6</th>\n",
       "      <th>B00LA6T0LS</th>\n",
       "      <th>B00LBZ1Z7K</th>\n",
       "      <th>B00LED02VY</th>\n",
       "      <th>B00LGN7Y3G</th>\n",
       "      <th>B00LGQ6HL8</th>\n",
       "      <th>B00LI4ZZO8</th>\n",
       "      <th>B00LKG1MC8</th>\n",
       "    </tr>\n",
       "    <tr>\n",
       "      <th>userIdx</th>\n",
       "      <th></th>\n",
       "      <th></th>\n",
       "      <th></th>\n",
       "      <th></th>\n",
       "      <th></th>\n",
       "      <th></th>\n",
       "      <th></th>\n",
       "      <th></th>\n",
       "      <th></th>\n",
       "      <th></th>\n",
       "      <th></th>\n",
       "      <th></th>\n",
       "      <th></th>\n",
       "      <th></th>\n",
       "      <th></th>\n",
       "      <th></th>\n",
       "      <th></th>\n",
       "      <th></th>\n",
       "      <th></th>\n",
       "      <th></th>\n",
       "      <th></th>\n",
       "    </tr>\n",
       "  </thead>\n",
       "  <tbody>\n",
       "    <tr>\n",
       "      <th>0</th>\n",
       "      <td>0.0</td>\n",
       "      <td>0.0</td>\n",
       "      <td>0.0</td>\n",
       "      <td>0.0</td>\n",
       "      <td>0.0</td>\n",
       "      <td>0.0</td>\n",
       "      <td>0.0</td>\n",
       "      <td>0.0</td>\n",
       "      <td>0.0</td>\n",
       "      <td>0.0</td>\n",
       "      <td>...</td>\n",
       "      <td>0.0</td>\n",
       "      <td>0.0</td>\n",
       "      <td>0.0</td>\n",
       "      <td>0.0</td>\n",
       "      <td>0.0</td>\n",
       "      <td>0.0</td>\n",
       "      <td>0.0</td>\n",
       "      <td>0.0</td>\n",
       "      <td>0.0</td>\n",
       "      <td>0.0</td>\n",
       "    </tr>\n",
       "    <tr>\n",
       "      <th>1</th>\n",
       "      <td>0.0</td>\n",
       "      <td>0.0</td>\n",
       "      <td>0.0</td>\n",
       "      <td>0.0</td>\n",
       "      <td>0.0</td>\n",
       "      <td>0.0</td>\n",
       "      <td>0.0</td>\n",
       "      <td>0.0</td>\n",
       "      <td>0.0</td>\n",
       "      <td>0.0</td>\n",
       "      <td>...</td>\n",
       "      <td>0.0</td>\n",
       "      <td>0.0</td>\n",
       "      <td>0.0</td>\n",
       "      <td>0.0</td>\n",
       "      <td>0.0</td>\n",
       "      <td>0.0</td>\n",
       "      <td>0.0</td>\n",
       "      <td>0.0</td>\n",
       "      <td>0.0</td>\n",
       "      <td>0.0</td>\n",
       "    </tr>\n",
       "    <tr>\n",
       "      <th>2</th>\n",
       "      <td>0.0</td>\n",
       "      <td>0.0</td>\n",
       "      <td>0.0</td>\n",
       "      <td>0.0</td>\n",
       "      <td>0.0</td>\n",
       "      <td>0.0</td>\n",
       "      <td>0.0</td>\n",
       "      <td>0.0</td>\n",
       "      <td>0.0</td>\n",
       "      <td>0.0</td>\n",
       "      <td>...</td>\n",
       "      <td>0.0</td>\n",
       "      <td>0.0</td>\n",
       "      <td>0.0</td>\n",
       "      <td>0.0</td>\n",
       "      <td>0.0</td>\n",
       "      <td>0.0</td>\n",
       "      <td>0.0</td>\n",
       "      <td>0.0</td>\n",
       "      <td>0.0</td>\n",
       "      <td>0.0</td>\n",
       "    </tr>\n",
       "    <tr>\n",
       "      <th>3</th>\n",
       "      <td>0.0</td>\n",
       "      <td>0.0</td>\n",
       "      <td>0.0</td>\n",
       "      <td>0.0</td>\n",
       "      <td>0.0</td>\n",
       "      <td>0.0</td>\n",
       "      <td>0.0</td>\n",
       "      <td>0.0</td>\n",
       "      <td>0.0</td>\n",
       "      <td>0.0</td>\n",
       "      <td>...</td>\n",
       "      <td>0.0</td>\n",
       "      <td>0.0</td>\n",
       "      <td>0.0</td>\n",
       "      <td>0.0</td>\n",
       "      <td>0.0</td>\n",
       "      <td>0.0</td>\n",
       "      <td>0.0</td>\n",
       "      <td>0.0</td>\n",
       "      <td>0.0</td>\n",
       "      <td>0.0</td>\n",
       "    </tr>\n",
       "    <tr>\n",
       "      <th>4</th>\n",
       "      <td>0.0</td>\n",
       "      <td>0.0</td>\n",
       "      <td>0.0</td>\n",
       "      <td>0.0</td>\n",
       "      <td>0.0</td>\n",
       "      <td>0.0</td>\n",
       "      <td>0.0</td>\n",
       "      <td>0.0</td>\n",
       "      <td>0.0</td>\n",
       "      <td>0.0</td>\n",
       "      <td>...</td>\n",
       "      <td>0.0</td>\n",
       "      <td>0.0</td>\n",
       "      <td>0.0</td>\n",
       "      <td>0.0</td>\n",
       "      <td>0.0</td>\n",
       "      <td>0.0</td>\n",
       "      <td>0.0</td>\n",
       "      <td>0.0</td>\n",
       "      <td>0.0</td>\n",
       "      <td>0.0</td>\n",
       "    </tr>\n",
       "  </tbody>\n",
       "</table>\n",
       "<p>5 rows × 48190 columns</p>\n",
       "</div>"
      ],
      "text/plain": [
       "productId  0594451647  0594481813  0970407998  0972683275  1400501466  \\\n",
       "userIdx                                                                 \n",
       "0                 0.0         0.0         0.0         0.0         0.0   \n",
       "1                 0.0         0.0         0.0         0.0         0.0   \n",
       "2                 0.0         0.0         0.0         0.0         0.0   \n",
       "3                 0.0         0.0         0.0         0.0         0.0   \n",
       "4                 0.0         0.0         0.0         0.0         0.0   \n",
       "\n",
       "productId  1400501520  1400501776  1400532620  1400532655  140053271X  ...  \\\n",
       "userIdx                                                                ...   \n",
       "0                 0.0         0.0         0.0         0.0         0.0  ...   \n",
       "1                 0.0         0.0         0.0         0.0         0.0  ...   \n",
       "2                 0.0         0.0         0.0         0.0         0.0  ...   \n",
       "3                 0.0         0.0         0.0         0.0         0.0  ...   \n",
       "4                 0.0         0.0         0.0         0.0         0.0  ...   \n",
       "\n",
       "productId  B00L5YZCCG  B00L8I6SFY  B00L8QCVL6  B00LA6T0LS  B00LBZ1Z7K  \\\n",
       "userIdx                                                                 \n",
       "0                 0.0         0.0         0.0         0.0         0.0   \n",
       "1                 0.0         0.0         0.0         0.0         0.0   \n",
       "2                 0.0         0.0         0.0         0.0         0.0   \n",
       "3                 0.0         0.0         0.0         0.0         0.0   \n",
       "4                 0.0         0.0         0.0         0.0         0.0   \n",
       "\n",
       "productId  B00LED02VY  B00LGN7Y3G  B00LGQ6HL8  B00LI4ZZO8  B00LKG1MC8  \n",
       "userIdx                                                                \n",
       "0                 0.0         0.0         0.0         0.0         0.0  \n",
       "1                 0.0         0.0         0.0         0.0         0.0  \n",
       "2                 0.0         0.0         0.0         0.0         0.0  \n",
       "3                 0.0         0.0         0.0         0.0         0.0  \n",
       "4                 0.0         0.0         0.0         0.0         0.0  \n",
       "\n",
       "[5 rows x 48190 columns]"
      ]
     },
     "execution_count": 34,
     "metadata": {},
     "output_type": "execute_result"
    }
   ],
   "source": [
    "final_ratings_matrix.head()"
   ]
  },
  {
   "cell_type": "code",
   "execution_count": 35,
   "id": "ce1d4e0a",
   "metadata": {},
   "outputs": [],
   "source": [
    "# Function to find similar users and their similarity score\n",
    "\n",
    "def similar_users(userIdx, matrix):\n",
    "    similarity = []\n",
    "    \n",
    "    for user in range(0, matrix.shape[0]):\n",
    "        sim = cosine_similarity([matrix.loc[userIdx]], [matrix.loc[user]])\n",
    "        \n",
    "        similarity.append((user, sim))\n",
    "        \n",
    "    \n",
    "    similarity.sort(key=lambda x: x[1], reverse = True)\n",
    "    most_similar_users = [tup[0] for tup in similarity]\n",
    "    similarity_score = [tup[1] for tup in similarity]\n",
    "    \n",
    "    most_similar_users.remove(userIdx)\n",
    "    similarity_score.remove(similarity_score[0])\n",
    "    \n",
    "    return most_similar_users, similarity_score"
   ]
  },
  {
   "cell_type": "code",
   "execution_count": 36,
   "id": "64138741",
   "metadata": {},
   "outputs": [
    {
     "data": {
      "text/plain": [
       "[320, 12, 793, 261, 156, 1493, 1250, 567, 753, 1360]"
      ]
     },
     "execution_count": 36,
     "metadata": {},
     "output_type": "execute_result"
    }
   ],
   "source": [
    "# Find out top 10 similar users to the user index 3 and their similarity score\n",
    "\n",
    "similar = similar_users(3, final_ratings_matrix)[0][0:10]\n",
    "similar"
   ]
  },
  {
   "cell_type": "code",
   "execution_count": 37,
   "id": "6a2b764e",
   "metadata": {},
   "outputs": [
    {
     "data": {
      "text/plain": [
       "[array([[0.05662371]]),\n",
       " array([[0.05549645]]),\n",
       " array([[0.05098326]]),\n",
       " array([[0.05024185]]),\n",
       " array([[0.05003874]]),\n",
       " array([[0.04930111]]),\n",
       " array([[0.04889354]]),\n",
       " array([[0.04672744]]),\n",
       " array([[0.04637283]]),\n",
       " array([[0.04492668]])]"
      ]
     },
     "execution_count": 37,
     "metadata": {},
     "output_type": "execute_result"
    }
   ],
   "source": [
    "# Similarity score\n",
    "\n",
    "similar_users(3, final_ratings_matrix)[1][0:10]"
   ]
  },
  {
   "cell_type": "code",
   "execution_count": 38,
   "id": "e91355d7",
   "metadata": {},
   "outputs": [
    {
     "data": {
      "text/plain": [
       "[991, 1065, 1012, 1402, 1371, 1278, 1518, 692, 785, 161]"
      ]
     },
     "execution_count": 38,
     "metadata": {},
     "output_type": "execute_result"
    }
   ],
   "source": [
    "# Find out top 10 similar users to the user index 1521 and their similarity score\n",
    "\n",
    "similar = similar_users(1521, final_ratings_matrix)[0][0:10]\n",
    "similar"
   ]
  },
  {
   "cell_type": "code",
   "execution_count": 39,
   "id": "a35e17ed",
   "metadata": {},
   "outputs": [
    {
     "data": {
      "text/plain": [
       "[array([[0.10889304]]),\n",
       " array([[0.10538068]]),\n",
       " array([[0.1026758]]),\n",
       " array([[0.09418291]]),\n",
       " array([[0.09149062]]),\n",
       " array([[0.09135361]]),\n",
       " array([[0.09028898]]),\n",
       " array([[0.08735684]]),\n",
       " array([[0.08673386]]),\n",
       " array([[0.08478815]])]"
      ]
     },
     "execution_count": 39,
     "metadata": {},
     "output_type": "execute_result"
    }
   ],
   "source": [
    "# Similarity Score\n",
    "\n",
    "similar_users(1521, final_ratings_matrix)[1][0:10]"
   ]
  },
  {
   "cell_type": "code",
   "execution_count": 40,
   "id": "e872ebfe",
   "metadata": {},
   "outputs": [],
   "source": [
    "# Function to recommend products\n",
    "\n",
    "def recommendations(userIdx, num_of_products, matrix):\n",
    "    most_similar_users = similar_users(userIdx, matrix)[0]\n",
    "    \n",
    "    productIds = set(list(matrix.columns[np.where(matrix.loc[userIdx] > 0)]))\n",
    "    \n",
    "    recommendations = []\n",
    "    \n",
    "    observations = productIds.copy()\n",
    "    \n",
    "    for similar_user in most_similar_users:\n",
    "        if len(recommendations) < num_of_products:\n",
    "            similar_user_productIds = set(list(matrix.columns[np.where(matrix.loc[similar_user] > 0)]))\n",
    "            recommendations.extend(list(similar_user_productIds.difference(observations)))\n",
    "            observations = observations.union(similar_user_productIds)\n",
    "        \n",
    "        else:\n",
    "            break\n",
    "            \n",
    "            \n",
    "    return recommendations[:num_of_products]"
   ]
  },
  {
   "cell_type": "code",
   "execution_count": 41,
   "id": "aa80f9e7",
   "metadata": {},
   "outputs": [
    {
     "data": {
      "text/plain": [
       "['B00011KHVA', 'B001DDW9V6', 'B000BUDHNQ', 'B000LG13AY', 'B000CRFOMK']"
      ]
     },
     "execution_count": 41,
     "metadata": {},
     "output_type": "execute_result"
    }
   ],
   "source": [
    "# Recommend 5 products to user index 3 based on similarity based collaborative filtering\n",
    "\n",
    "recommendations(3, 5, final_ratings_matrix)"
   ]
  },
  {
   "cell_type": "code",
   "execution_count": 42,
   "id": "ecea638d",
   "metadata": {},
   "outputs": [
    {
     "data": {
      "text/plain": [
       "['B0076POAPS', 'B0034CL2ZI', 'B00AWLCIO8', 'B005TDWUII', 'B003YBUSMW']"
      ]
     },
     "execution_count": 42,
     "metadata": {},
     "output_type": "execute_result"
    }
   ],
   "source": [
    "# Recommend 5 products to user index 1521 based on similarity based collaborative filtering\n",
    "\n",
    "recommendations(1521, 5, final_ratings_matrix)"
   ]
  },
  {
   "cell_type": "code",
   "execution_count": null,
   "id": "c12823d3",
   "metadata": {},
   "outputs": [],
   "source": []
  },
  {
   "cell_type": "code",
   "execution_count": null,
   "id": "c064f872",
   "metadata": {},
   "outputs": [],
   "source": []
  },
  {
   "cell_type": "code",
   "execution_count": null,
   "id": "94c009b6",
   "metadata": {},
   "outputs": [],
   "source": []
  },
  {
   "cell_type": "code",
   "execution_count": null,
   "id": "9d46e310",
   "metadata": {},
   "outputs": [],
   "source": []
  },
  {
   "cell_type": "markdown",
   "id": "f16b7bb6",
   "metadata": {},
   "source": [
    "Model based Collaborative filtering"
   ]
  },
  {
   "cell_type": "code",
   "execution_count": 43,
   "id": "e3637949",
   "metadata": {},
   "outputs": [],
   "source": [
    "# CSV - Compressed Sparse Row\n",
    "\n",
    "from scipy.sparse import csr_matrix\n",
    "final_ratings_sparse = csr_matrix(final_ratings_matrix.values)"
   ]
  },
  {
   "cell_type": "code",
   "execution_count": 44,
   "id": "db376ad4",
   "metadata": {},
   "outputs": [],
   "source": [
    "#Singular value Decomposition\n",
    "U, s, Vt = svds(final_ratings_sparse, k=50) # k is the number of latent features\n",
    "\n",
    "# Construct diagonal array in SVD\n",
    "sigma = np.diag(s)"
   ]
  },
  {
   "cell_type": "code",
   "execution_count": 45,
   "id": "88102cc9",
   "metadata": {},
   "outputs": [
    {
     "data": {
      "text/plain": [
       "(1540, 50)"
      ]
     },
     "execution_count": 45,
     "metadata": {},
     "output_type": "execute_result"
    }
   ],
   "source": [
    "U.shape"
   ]
  },
  {
   "cell_type": "code",
   "execution_count": 46,
   "id": "2854bc57",
   "metadata": {},
   "outputs": [
    {
     "data": {
      "text/plain": [
       "(50, 50)"
      ]
     },
     "execution_count": 46,
     "metadata": {},
     "output_type": "execute_result"
    }
   ],
   "source": [
    "sigma.shape"
   ]
  },
  {
   "cell_type": "code",
   "execution_count": 47,
   "id": "7048de2d",
   "metadata": {},
   "outputs": [
    {
     "data": {
      "text/plain": [
       "(50, 48190)"
      ]
     },
     "execution_count": 47,
     "metadata": {},
     "output_type": "execute_result"
    }
   ],
   "source": [
    "Vt.shape"
   ]
  },
  {
   "cell_type": "markdown",
   "id": "47526ab7",
   "metadata": {},
   "source": [
    "Now lets regenerate the original matrix using U, Sigma and Vt matrices. The resulting matrix would be the predicted ratings for all users and products"
   ]
  },
  {
   "cell_type": "code",
   "execution_count": 48,
   "id": "eeabaf24",
   "metadata": {},
   "outputs": [],
   "source": [
    "all_user_predicted_ratings = np.dot(np.dot(U, sigma), Vt)\n",
    "\n",
    "#Predicted ratings\n",
    "preds_df = pd.DataFrame(abs(all_user_predicted_ratings), columns = final_ratings_matrix.columns)"
   ]
  },
  {
   "cell_type": "code",
   "execution_count": 49,
   "id": "50ed9e96",
   "metadata": {},
   "outputs": [
    {
     "data": {
      "text/html": [
       "<div>\n",
       "<style scoped>\n",
       "    .dataframe tbody tr th:only-of-type {\n",
       "        vertical-align: middle;\n",
       "    }\n",
       "\n",
       "    .dataframe tbody tr th {\n",
       "        vertical-align: top;\n",
       "    }\n",
       "\n",
       "    .dataframe thead th {\n",
       "        text-align: right;\n",
       "    }\n",
       "</style>\n",
       "<table border=\"1\" class=\"dataframe\">\n",
       "  <thead>\n",
       "    <tr style=\"text-align: right;\">\n",
       "      <th>productId</th>\n",
       "      <th>0594451647</th>\n",
       "      <th>0594481813</th>\n",
       "      <th>0970407998</th>\n",
       "      <th>0972683275</th>\n",
       "      <th>1400501466</th>\n",
       "      <th>1400501520</th>\n",
       "      <th>1400501776</th>\n",
       "      <th>1400532620</th>\n",
       "      <th>1400532655</th>\n",
       "      <th>140053271X</th>\n",
       "      <th>...</th>\n",
       "      <th>B00L5YZCCG</th>\n",
       "      <th>B00L8I6SFY</th>\n",
       "      <th>B00L8QCVL6</th>\n",
       "      <th>B00LA6T0LS</th>\n",
       "      <th>B00LBZ1Z7K</th>\n",
       "      <th>B00LED02VY</th>\n",
       "      <th>B00LGN7Y3G</th>\n",
       "      <th>B00LGQ6HL8</th>\n",
       "      <th>B00LI4ZZO8</th>\n",
       "      <th>B00LKG1MC8</th>\n",
       "    </tr>\n",
       "  </thead>\n",
       "  <tbody>\n",
       "    <tr>\n",
       "      <th>0</th>\n",
       "      <td>0.005086</td>\n",
       "      <td>0.002178</td>\n",
       "      <td>0.003668</td>\n",
       "      <td>0.040843</td>\n",
       "      <td>0.009640</td>\n",
       "      <td>0.006808</td>\n",
       "      <td>0.020659</td>\n",
       "      <td>0.000649</td>\n",
       "      <td>0.020331</td>\n",
       "      <td>0.005633</td>\n",
       "      <td>...</td>\n",
       "      <td>0.000238</td>\n",
       "      <td>0.061477</td>\n",
       "      <td>0.001214</td>\n",
       "      <td>0.123433</td>\n",
       "      <td>0.028490</td>\n",
       "      <td>0.016109</td>\n",
       "      <td>0.002855</td>\n",
       "      <td>0.174568</td>\n",
       "      <td>0.011367</td>\n",
       "      <td>0.012997</td>\n",
       "    </tr>\n",
       "    <tr>\n",
       "      <th>1</th>\n",
       "      <td>0.002286</td>\n",
       "      <td>0.010898</td>\n",
       "      <td>0.000724</td>\n",
       "      <td>0.130259</td>\n",
       "      <td>0.007506</td>\n",
       "      <td>0.003350</td>\n",
       "      <td>0.063711</td>\n",
       "      <td>0.000674</td>\n",
       "      <td>0.016111</td>\n",
       "      <td>0.002433</td>\n",
       "      <td>...</td>\n",
       "      <td>0.000038</td>\n",
       "      <td>0.013766</td>\n",
       "      <td>0.001473</td>\n",
       "      <td>0.025588</td>\n",
       "      <td>0.042103</td>\n",
       "      <td>0.004251</td>\n",
       "      <td>0.002177</td>\n",
       "      <td>0.024362</td>\n",
       "      <td>0.014765</td>\n",
       "      <td>0.038570</td>\n",
       "    </tr>\n",
       "    <tr>\n",
       "      <th>2</th>\n",
       "      <td>0.001655</td>\n",
       "      <td>0.002675</td>\n",
       "      <td>0.007355</td>\n",
       "      <td>0.007264</td>\n",
       "      <td>0.005152</td>\n",
       "      <td>0.003986</td>\n",
       "      <td>0.003480</td>\n",
       "      <td>0.006961</td>\n",
       "      <td>0.006606</td>\n",
       "      <td>0.002719</td>\n",
       "      <td>...</td>\n",
       "      <td>0.001708</td>\n",
       "      <td>0.051040</td>\n",
       "      <td>0.000325</td>\n",
       "      <td>0.054867</td>\n",
       "      <td>0.017870</td>\n",
       "      <td>0.004996</td>\n",
       "      <td>0.002426</td>\n",
       "      <td>0.083928</td>\n",
       "      <td>0.112205</td>\n",
       "      <td>0.005964</td>\n",
       "    </tr>\n",
       "    <tr>\n",
       "      <th>3</th>\n",
       "      <td>0.001856</td>\n",
       "      <td>0.011019</td>\n",
       "      <td>0.005910</td>\n",
       "      <td>0.014134</td>\n",
       "      <td>0.000179</td>\n",
       "      <td>0.001877</td>\n",
       "      <td>0.005391</td>\n",
       "      <td>0.001709</td>\n",
       "      <td>0.004968</td>\n",
       "      <td>0.001402</td>\n",
       "      <td>...</td>\n",
       "      <td>0.000582</td>\n",
       "      <td>0.009326</td>\n",
       "      <td>0.000465</td>\n",
       "      <td>0.048315</td>\n",
       "      <td>0.023302</td>\n",
       "      <td>0.006790</td>\n",
       "      <td>0.003380</td>\n",
       "      <td>0.005460</td>\n",
       "      <td>0.015263</td>\n",
       "      <td>0.025996</td>\n",
       "    </tr>\n",
       "    <tr>\n",
       "      <th>4</th>\n",
       "      <td>0.001115</td>\n",
       "      <td>0.002670</td>\n",
       "      <td>0.011018</td>\n",
       "      <td>0.014434</td>\n",
       "      <td>0.010319</td>\n",
       "      <td>0.006002</td>\n",
       "      <td>0.017151</td>\n",
       "      <td>0.003726</td>\n",
       "      <td>0.001404</td>\n",
       "      <td>0.005645</td>\n",
       "      <td>...</td>\n",
       "      <td>0.000207</td>\n",
       "      <td>0.023761</td>\n",
       "      <td>0.000747</td>\n",
       "      <td>0.019347</td>\n",
       "      <td>0.012749</td>\n",
       "      <td>0.001026</td>\n",
       "      <td>0.001364</td>\n",
       "      <td>0.020580</td>\n",
       "      <td>0.011828</td>\n",
       "      <td>0.012770</td>\n",
       "    </tr>\n",
       "  </tbody>\n",
       "</table>\n",
       "<p>5 rows × 48190 columns</p>\n",
       "</div>"
      ],
      "text/plain": [
       "productId  0594451647  0594481813  0970407998  0972683275  1400501466  \\\n",
       "0            0.005086    0.002178    0.003668    0.040843    0.009640   \n",
       "1            0.002286    0.010898    0.000724    0.130259    0.007506   \n",
       "2            0.001655    0.002675    0.007355    0.007264    0.005152   \n",
       "3            0.001856    0.011019    0.005910    0.014134    0.000179   \n",
       "4            0.001115    0.002670    0.011018    0.014434    0.010319   \n",
       "\n",
       "productId  1400501520  1400501776  1400532620  1400532655  140053271X  ...  \\\n",
       "0            0.006808    0.020659    0.000649    0.020331    0.005633  ...   \n",
       "1            0.003350    0.063711    0.000674    0.016111    0.002433  ...   \n",
       "2            0.003986    0.003480    0.006961    0.006606    0.002719  ...   \n",
       "3            0.001877    0.005391    0.001709    0.004968    0.001402  ...   \n",
       "4            0.006002    0.017151    0.003726    0.001404    0.005645  ...   \n",
       "\n",
       "productId  B00L5YZCCG  B00L8I6SFY  B00L8QCVL6  B00LA6T0LS  B00LBZ1Z7K  \\\n",
       "0            0.000238    0.061477    0.001214    0.123433    0.028490   \n",
       "1            0.000038    0.013766    0.001473    0.025588    0.042103   \n",
       "2            0.001708    0.051040    0.000325    0.054867    0.017870   \n",
       "3            0.000582    0.009326    0.000465    0.048315    0.023302   \n",
       "4            0.000207    0.023761    0.000747    0.019347    0.012749   \n",
       "\n",
       "productId  B00LED02VY  B00LGN7Y3G  B00LGQ6HL8  B00LI4ZZO8  B00LKG1MC8  \n",
       "0            0.016109    0.002855    0.174568    0.011367    0.012997  \n",
       "1            0.004251    0.002177    0.024362    0.014765    0.038570  \n",
       "2            0.004996    0.002426    0.083928    0.112205    0.005964  \n",
       "3            0.006790    0.003380    0.005460    0.015263    0.025996  \n",
       "4            0.001026    0.001364    0.020580    0.011828    0.012770  \n",
       "\n",
       "[5 rows x 48190 columns]"
      ]
     },
     "execution_count": 49,
     "metadata": {},
     "output_type": "execute_result"
    }
   ],
   "source": [
    "preds_df.head()"
   ]
  },
  {
   "cell_type": "code",
   "execution_count": 50,
   "id": "5ec080cf",
   "metadata": {},
   "outputs": [],
   "source": [
    "preds_matrix = csr_matrix(preds_df.values)"
   ]
  },
  {
   "cell_type": "code",
   "execution_count": 51,
   "id": "2b0a59ab",
   "metadata": {},
   "outputs": [],
   "source": [
    "# Function to recommend Products\n",
    "\n",
    "def recommend_items(userIdx, matrix, preds_matrix, num_recommendations):\n",
    "    \n",
    "    user_ratings = matrix[userIdx, :].toarray().reshape(-1)\n",
    "    user_predictions = preds_matrix[userIdx, :].toarray().reshape(-1)\n",
    "    \n",
    "    temp = pd.DataFrame({'user_ratings': user_ratings, 'user_predictions': user_predictions})\n",
    "    temp['Recommend Products'] = np.arange(len(user_ratings))\n",
    "    \n",
    "    temp = temp.loc[temp.user_ratings == 0]\n",
    "    \n",
    "    temp = temp.sort_values('user_predictions', ascending=False)\n",
    "    \n",
    "    print('\\nRecommended Products for user (user_id = {}):\\n'.format(userIdx))\n",
    "    print(temp['user_predictions'].head(num_recommendations))"
   ]
  },
  {
   "cell_type": "code",
   "execution_count": 52,
   "id": "aac5689d",
   "metadata": {},
   "outputs": [
    {
     "name": "stdout",
     "output_type": "stream",
     "text": [
      "\n",
      "Recommended Products for user (user_id = 121):\n",
      "\n",
      "28761    2.414390\n",
      "39003    1.521306\n",
      "41420    1.309224\n",
      "40158    1.200111\n",
      "33819    1.126866\n",
      "Name: user_predictions, dtype: float64\n"
     ]
    }
   ],
   "source": [
    "# Recommend top 5 products to user id 121\n",
    "recommend_items(121, final_ratings_sparse, preds_matrix, 5)"
   ]
  },
  {
   "cell_type": "code",
   "execution_count": 53,
   "id": "3a0f85a3",
   "metadata": {},
   "outputs": [
    {
     "name": "stdout",
     "output_type": "stream",
     "text": [
      "\n",
      "Recommended Products for user (user_id = 100):\n",
      "\n",
      "11078    1.624746\n",
      "16159    1.132730\n",
      "10276    1.047888\n",
      "22210    0.955049\n",
      "18887    0.879705\n",
      "41618    0.854430\n",
      "45008    0.816153\n",
      "43419    0.803755\n",
      "28761    0.748799\n",
      "14791    0.748797\n",
      "Name: user_predictions, dtype: float64\n"
     ]
    }
   ],
   "source": [
    "# Recommend top 10 products to user id 100\n",
    "\n",
    "recommend_items(100, final_ratings_sparse, preds_matrix, 10)"
   ]
  },
  {
   "cell_type": "code",
   "execution_count": null,
   "id": "4b96d593",
   "metadata": {},
   "outputs": [],
   "source": []
  },
  {
   "cell_type": "code",
   "execution_count": null,
   "id": "6d185928",
   "metadata": {},
   "outputs": [],
   "source": []
  },
  {
   "cell_type": "code",
   "execution_count": null,
   "id": "5b756b55",
   "metadata": {},
   "outputs": [],
   "source": []
  },
  {
   "cell_type": "code",
   "execution_count": null,
   "id": "42f96747",
   "metadata": {},
   "outputs": [],
   "source": []
  },
  {
   "cell_type": "markdown",
   "id": "6a45f48b",
   "metadata": {},
   "source": [
    "Evaluating the Model"
   ]
  },
  {
   "cell_type": "code",
   "execution_count": 54,
   "id": "bd7a8520",
   "metadata": {},
   "outputs": [],
   "source": [
    "final_ratings_matrix['userIdx'] = np.arange(0, final_ratings_matrix.shape[0])\n",
    "final_ratings_matrix.set_index(['userIdx'], inplace = True)"
   ]
  },
  {
   "cell_type": "code",
   "execution_count": 55,
   "id": "878e6be3",
   "metadata": {},
   "outputs": [
    {
     "data": {
      "text/html": [
       "<div>\n",
       "<style scoped>\n",
       "    .dataframe tbody tr th:only-of-type {\n",
       "        vertical-align: middle;\n",
       "    }\n",
       "\n",
       "    .dataframe tbody tr th {\n",
       "        vertical-align: top;\n",
       "    }\n",
       "\n",
       "    .dataframe thead th {\n",
       "        text-align: right;\n",
       "    }\n",
       "</style>\n",
       "<table border=\"1\" class=\"dataframe\">\n",
       "  <thead>\n",
       "    <tr style=\"text-align: right;\">\n",
       "      <th>productId</th>\n",
       "      <th>0594451647</th>\n",
       "      <th>0594481813</th>\n",
       "      <th>0970407998</th>\n",
       "      <th>0972683275</th>\n",
       "      <th>1400501466</th>\n",
       "      <th>1400501520</th>\n",
       "      <th>1400501776</th>\n",
       "      <th>1400532620</th>\n",
       "      <th>1400532655</th>\n",
       "      <th>140053271X</th>\n",
       "      <th>...</th>\n",
       "      <th>B00L5YZCCG</th>\n",
       "      <th>B00L8I6SFY</th>\n",
       "      <th>B00L8QCVL6</th>\n",
       "      <th>B00LA6T0LS</th>\n",
       "      <th>B00LBZ1Z7K</th>\n",
       "      <th>B00LED02VY</th>\n",
       "      <th>B00LGN7Y3G</th>\n",
       "      <th>B00LGQ6HL8</th>\n",
       "      <th>B00LI4ZZO8</th>\n",
       "      <th>B00LKG1MC8</th>\n",
       "    </tr>\n",
       "    <tr>\n",
       "      <th>userIdx</th>\n",
       "      <th></th>\n",
       "      <th></th>\n",
       "      <th></th>\n",
       "      <th></th>\n",
       "      <th></th>\n",
       "      <th></th>\n",
       "      <th></th>\n",
       "      <th></th>\n",
       "      <th></th>\n",
       "      <th></th>\n",
       "      <th></th>\n",
       "      <th></th>\n",
       "      <th></th>\n",
       "      <th></th>\n",
       "      <th></th>\n",
       "      <th></th>\n",
       "      <th></th>\n",
       "      <th></th>\n",
       "      <th></th>\n",
       "      <th></th>\n",
       "      <th></th>\n",
       "    </tr>\n",
       "  </thead>\n",
       "  <tbody>\n",
       "    <tr>\n",
       "      <th>0</th>\n",
       "      <td>0.0</td>\n",
       "      <td>0.0</td>\n",
       "      <td>0.0</td>\n",
       "      <td>0.0</td>\n",
       "      <td>0.0</td>\n",
       "      <td>0.0</td>\n",
       "      <td>0.0</td>\n",
       "      <td>0.0</td>\n",
       "      <td>0.0</td>\n",
       "      <td>0.0</td>\n",
       "      <td>...</td>\n",
       "      <td>0.0</td>\n",
       "      <td>0.0</td>\n",
       "      <td>0.0</td>\n",
       "      <td>0.0</td>\n",
       "      <td>0.0</td>\n",
       "      <td>0.0</td>\n",
       "      <td>0.0</td>\n",
       "      <td>0.0</td>\n",
       "      <td>0.0</td>\n",
       "      <td>0.0</td>\n",
       "    </tr>\n",
       "    <tr>\n",
       "      <th>1</th>\n",
       "      <td>0.0</td>\n",
       "      <td>0.0</td>\n",
       "      <td>0.0</td>\n",
       "      <td>0.0</td>\n",
       "      <td>0.0</td>\n",
       "      <td>0.0</td>\n",
       "      <td>0.0</td>\n",
       "      <td>0.0</td>\n",
       "      <td>0.0</td>\n",
       "      <td>0.0</td>\n",
       "      <td>...</td>\n",
       "      <td>0.0</td>\n",
       "      <td>0.0</td>\n",
       "      <td>0.0</td>\n",
       "      <td>0.0</td>\n",
       "      <td>0.0</td>\n",
       "      <td>0.0</td>\n",
       "      <td>0.0</td>\n",
       "      <td>0.0</td>\n",
       "      <td>0.0</td>\n",
       "      <td>0.0</td>\n",
       "    </tr>\n",
       "    <tr>\n",
       "      <th>2</th>\n",
       "      <td>0.0</td>\n",
       "      <td>0.0</td>\n",
       "      <td>0.0</td>\n",
       "      <td>0.0</td>\n",
       "      <td>0.0</td>\n",
       "      <td>0.0</td>\n",
       "      <td>0.0</td>\n",
       "      <td>0.0</td>\n",
       "      <td>0.0</td>\n",
       "      <td>0.0</td>\n",
       "      <td>...</td>\n",
       "      <td>0.0</td>\n",
       "      <td>0.0</td>\n",
       "      <td>0.0</td>\n",
       "      <td>0.0</td>\n",
       "      <td>0.0</td>\n",
       "      <td>0.0</td>\n",
       "      <td>0.0</td>\n",
       "      <td>0.0</td>\n",
       "      <td>0.0</td>\n",
       "      <td>0.0</td>\n",
       "    </tr>\n",
       "    <tr>\n",
       "      <th>3</th>\n",
       "      <td>0.0</td>\n",
       "      <td>0.0</td>\n",
       "      <td>0.0</td>\n",
       "      <td>0.0</td>\n",
       "      <td>0.0</td>\n",
       "      <td>0.0</td>\n",
       "      <td>0.0</td>\n",
       "      <td>0.0</td>\n",
       "      <td>0.0</td>\n",
       "      <td>0.0</td>\n",
       "      <td>...</td>\n",
       "      <td>0.0</td>\n",
       "      <td>0.0</td>\n",
       "      <td>0.0</td>\n",
       "      <td>0.0</td>\n",
       "      <td>0.0</td>\n",
       "      <td>0.0</td>\n",
       "      <td>0.0</td>\n",
       "      <td>0.0</td>\n",
       "      <td>0.0</td>\n",
       "      <td>0.0</td>\n",
       "    </tr>\n",
       "    <tr>\n",
       "      <th>4</th>\n",
       "      <td>0.0</td>\n",
       "      <td>0.0</td>\n",
       "      <td>0.0</td>\n",
       "      <td>0.0</td>\n",
       "      <td>0.0</td>\n",
       "      <td>0.0</td>\n",
       "      <td>0.0</td>\n",
       "      <td>0.0</td>\n",
       "      <td>0.0</td>\n",
       "      <td>0.0</td>\n",
       "      <td>...</td>\n",
       "      <td>0.0</td>\n",
       "      <td>0.0</td>\n",
       "      <td>0.0</td>\n",
       "      <td>0.0</td>\n",
       "      <td>0.0</td>\n",
       "      <td>0.0</td>\n",
       "      <td>0.0</td>\n",
       "      <td>0.0</td>\n",
       "      <td>0.0</td>\n",
       "      <td>0.0</td>\n",
       "    </tr>\n",
       "  </tbody>\n",
       "</table>\n",
       "<p>5 rows × 48190 columns</p>\n",
       "</div>"
      ],
      "text/plain": [
       "productId  0594451647  0594481813  0970407998  0972683275  1400501466  \\\n",
       "userIdx                                                                 \n",
       "0                 0.0         0.0         0.0         0.0         0.0   \n",
       "1                 0.0         0.0         0.0         0.0         0.0   \n",
       "2                 0.0         0.0         0.0         0.0         0.0   \n",
       "3                 0.0         0.0         0.0         0.0         0.0   \n",
       "4                 0.0         0.0         0.0         0.0         0.0   \n",
       "\n",
       "productId  1400501520  1400501776  1400532620  1400532655  140053271X  ...  \\\n",
       "userIdx                                                                ...   \n",
       "0                 0.0         0.0         0.0         0.0         0.0  ...   \n",
       "1                 0.0         0.0         0.0         0.0         0.0  ...   \n",
       "2                 0.0         0.0         0.0         0.0         0.0  ...   \n",
       "3                 0.0         0.0         0.0         0.0         0.0  ...   \n",
       "4                 0.0         0.0         0.0         0.0         0.0  ...   \n",
       "\n",
       "productId  B00L5YZCCG  B00L8I6SFY  B00L8QCVL6  B00LA6T0LS  B00LBZ1Z7K  \\\n",
       "userIdx                                                                 \n",
       "0                 0.0         0.0         0.0         0.0         0.0   \n",
       "1                 0.0         0.0         0.0         0.0         0.0   \n",
       "2                 0.0         0.0         0.0         0.0         0.0   \n",
       "3                 0.0         0.0         0.0         0.0         0.0   \n",
       "4                 0.0         0.0         0.0         0.0         0.0   \n",
       "\n",
       "productId  B00LED02VY  B00LGN7Y3G  B00LGQ6HL8  B00LI4ZZO8  B00LKG1MC8  \n",
       "userIdx                                                                \n",
       "0                 0.0         0.0         0.0         0.0         0.0  \n",
       "1                 0.0         0.0         0.0         0.0         0.0  \n",
       "2                 0.0         0.0         0.0         0.0         0.0  \n",
       "3                 0.0         0.0         0.0         0.0         0.0  \n",
       "4                 0.0         0.0         0.0         0.0         0.0  \n",
       "\n",
       "[5 rows x 48190 columns]"
      ]
     },
     "execution_count": 55,
     "metadata": {},
     "output_type": "execute_result"
    }
   ],
   "source": [
    "# Actual ratings given by users\n",
    "\n",
    "final_ratings_matrix.head()"
   ]
  },
  {
   "cell_type": "code",
   "execution_count": 56,
   "id": "4cb83597",
   "metadata": {},
   "outputs": [
    {
     "data": {
      "text/plain": [
       "productId\n",
       "0594451647    0.003247\n",
       "0594481813    0.001948\n",
       "0970407998    0.003247\n",
       "0972683275    0.012338\n",
       "1400501466    0.012987\n",
       "dtype: float64"
      ]
     },
     "execution_count": 56,
     "metadata": {},
     "output_type": "execute_result"
    }
   ],
   "source": [
    "avg_rating = final_ratings_matrix.mean()\n",
    "avg_rating.head()"
   ]
  },
  {
   "cell_type": "code",
   "execution_count": 57,
   "id": "4ead9448",
   "metadata": {},
   "outputs": [
    {
     "data": {
      "text/html": [
       "<div>\n",
       "<style scoped>\n",
       "    .dataframe tbody tr th:only-of-type {\n",
       "        vertical-align: middle;\n",
       "    }\n",
       "\n",
       "    .dataframe tbody tr th {\n",
       "        vertical-align: top;\n",
       "    }\n",
       "\n",
       "    .dataframe thead th {\n",
       "        text-align: right;\n",
       "    }\n",
       "</style>\n",
       "<table border=\"1\" class=\"dataframe\">\n",
       "  <thead>\n",
       "    <tr style=\"text-align: right;\">\n",
       "      <th>productId</th>\n",
       "      <th>0594451647</th>\n",
       "      <th>0594481813</th>\n",
       "      <th>0970407998</th>\n",
       "      <th>0972683275</th>\n",
       "      <th>1400501466</th>\n",
       "      <th>1400501520</th>\n",
       "      <th>1400501776</th>\n",
       "      <th>1400532620</th>\n",
       "      <th>1400532655</th>\n",
       "      <th>140053271X</th>\n",
       "      <th>...</th>\n",
       "      <th>B00L5YZCCG</th>\n",
       "      <th>B00L8I6SFY</th>\n",
       "      <th>B00L8QCVL6</th>\n",
       "      <th>B00LA6T0LS</th>\n",
       "      <th>B00LBZ1Z7K</th>\n",
       "      <th>B00LED02VY</th>\n",
       "      <th>B00LGN7Y3G</th>\n",
       "      <th>B00LGQ6HL8</th>\n",
       "      <th>B00LI4ZZO8</th>\n",
       "      <th>B00LKG1MC8</th>\n",
       "    </tr>\n",
       "  </thead>\n",
       "  <tbody>\n",
       "    <tr>\n",
       "      <th>0</th>\n",
       "      <td>0.005086</td>\n",
       "      <td>0.002178</td>\n",
       "      <td>0.003668</td>\n",
       "      <td>0.040843</td>\n",
       "      <td>0.009640</td>\n",
       "      <td>0.006808</td>\n",
       "      <td>0.020659</td>\n",
       "      <td>0.000649</td>\n",
       "      <td>0.020331</td>\n",
       "      <td>0.005633</td>\n",
       "      <td>...</td>\n",
       "      <td>0.000238</td>\n",
       "      <td>0.061477</td>\n",
       "      <td>0.001214</td>\n",
       "      <td>0.123433</td>\n",
       "      <td>0.028490</td>\n",
       "      <td>0.016109</td>\n",
       "      <td>0.002855</td>\n",
       "      <td>0.174568</td>\n",
       "      <td>0.011367</td>\n",
       "      <td>0.012997</td>\n",
       "    </tr>\n",
       "    <tr>\n",
       "      <th>1</th>\n",
       "      <td>0.002286</td>\n",
       "      <td>0.010898</td>\n",
       "      <td>0.000724</td>\n",
       "      <td>0.130259</td>\n",
       "      <td>0.007506</td>\n",
       "      <td>0.003350</td>\n",
       "      <td>0.063711</td>\n",
       "      <td>0.000674</td>\n",
       "      <td>0.016111</td>\n",
       "      <td>0.002433</td>\n",
       "      <td>...</td>\n",
       "      <td>0.000038</td>\n",
       "      <td>0.013766</td>\n",
       "      <td>0.001473</td>\n",
       "      <td>0.025588</td>\n",
       "      <td>0.042103</td>\n",
       "      <td>0.004251</td>\n",
       "      <td>0.002177</td>\n",
       "      <td>0.024362</td>\n",
       "      <td>0.014765</td>\n",
       "      <td>0.038570</td>\n",
       "    </tr>\n",
       "    <tr>\n",
       "      <th>2</th>\n",
       "      <td>0.001655</td>\n",
       "      <td>0.002675</td>\n",
       "      <td>0.007355</td>\n",
       "      <td>0.007264</td>\n",
       "      <td>0.005152</td>\n",
       "      <td>0.003986</td>\n",
       "      <td>0.003480</td>\n",
       "      <td>0.006961</td>\n",
       "      <td>0.006606</td>\n",
       "      <td>0.002719</td>\n",
       "      <td>...</td>\n",
       "      <td>0.001708</td>\n",
       "      <td>0.051040</td>\n",
       "      <td>0.000325</td>\n",
       "      <td>0.054867</td>\n",
       "      <td>0.017870</td>\n",
       "      <td>0.004996</td>\n",
       "      <td>0.002426</td>\n",
       "      <td>0.083928</td>\n",
       "      <td>0.112205</td>\n",
       "      <td>0.005964</td>\n",
       "    </tr>\n",
       "    <tr>\n",
       "      <th>3</th>\n",
       "      <td>0.001856</td>\n",
       "      <td>0.011019</td>\n",
       "      <td>0.005910</td>\n",
       "      <td>0.014134</td>\n",
       "      <td>0.000179</td>\n",
       "      <td>0.001877</td>\n",
       "      <td>0.005391</td>\n",
       "      <td>0.001709</td>\n",
       "      <td>0.004968</td>\n",
       "      <td>0.001402</td>\n",
       "      <td>...</td>\n",
       "      <td>0.000582</td>\n",
       "      <td>0.009326</td>\n",
       "      <td>0.000465</td>\n",
       "      <td>0.048315</td>\n",
       "      <td>0.023302</td>\n",
       "      <td>0.006790</td>\n",
       "      <td>0.003380</td>\n",
       "      <td>0.005460</td>\n",
       "      <td>0.015263</td>\n",
       "      <td>0.025996</td>\n",
       "    </tr>\n",
       "    <tr>\n",
       "      <th>4</th>\n",
       "      <td>0.001115</td>\n",
       "      <td>0.002670</td>\n",
       "      <td>0.011018</td>\n",
       "      <td>0.014434</td>\n",
       "      <td>0.010319</td>\n",
       "      <td>0.006002</td>\n",
       "      <td>0.017151</td>\n",
       "      <td>0.003726</td>\n",
       "      <td>0.001404</td>\n",
       "      <td>0.005645</td>\n",
       "      <td>...</td>\n",
       "      <td>0.000207</td>\n",
       "      <td>0.023761</td>\n",
       "      <td>0.000747</td>\n",
       "      <td>0.019347</td>\n",
       "      <td>0.012749</td>\n",
       "      <td>0.001026</td>\n",
       "      <td>0.001364</td>\n",
       "      <td>0.020580</td>\n",
       "      <td>0.011828</td>\n",
       "      <td>0.012770</td>\n",
       "    </tr>\n",
       "  </tbody>\n",
       "</table>\n",
       "<p>5 rows × 48190 columns</p>\n",
       "</div>"
      ],
      "text/plain": [
       "productId  0594451647  0594481813  0970407998  0972683275  1400501466  \\\n",
       "0            0.005086    0.002178    0.003668    0.040843    0.009640   \n",
       "1            0.002286    0.010898    0.000724    0.130259    0.007506   \n",
       "2            0.001655    0.002675    0.007355    0.007264    0.005152   \n",
       "3            0.001856    0.011019    0.005910    0.014134    0.000179   \n",
       "4            0.001115    0.002670    0.011018    0.014434    0.010319   \n",
       "\n",
       "productId  1400501520  1400501776  1400532620  1400532655  140053271X  ...  \\\n",
       "0            0.006808    0.020659    0.000649    0.020331    0.005633  ...   \n",
       "1            0.003350    0.063711    0.000674    0.016111    0.002433  ...   \n",
       "2            0.003986    0.003480    0.006961    0.006606    0.002719  ...   \n",
       "3            0.001877    0.005391    0.001709    0.004968    0.001402  ...   \n",
       "4            0.006002    0.017151    0.003726    0.001404    0.005645  ...   \n",
       "\n",
       "productId  B00L5YZCCG  B00L8I6SFY  B00L8QCVL6  B00LA6T0LS  B00LBZ1Z7K  \\\n",
       "0            0.000238    0.061477    0.001214    0.123433    0.028490   \n",
       "1            0.000038    0.013766    0.001473    0.025588    0.042103   \n",
       "2            0.001708    0.051040    0.000325    0.054867    0.017870   \n",
       "3            0.000582    0.009326    0.000465    0.048315    0.023302   \n",
       "4            0.000207    0.023761    0.000747    0.019347    0.012749   \n",
       "\n",
       "productId  B00LED02VY  B00LGN7Y3G  B00LGQ6HL8  B00LI4ZZO8  B00LKG1MC8  \n",
       "0            0.016109    0.002855    0.174568    0.011367    0.012997  \n",
       "1            0.004251    0.002177    0.024362    0.014765    0.038570  \n",
       "2            0.004996    0.002426    0.083928    0.112205    0.005964  \n",
       "3            0.006790    0.003380    0.005460    0.015263    0.025996  \n",
       "4            0.001026    0.001364    0.020580    0.011828    0.012770  \n",
       "\n",
       "[5 rows x 48190 columns]"
      ]
     },
     "execution_count": 57,
     "metadata": {},
     "output_type": "execute_result"
    }
   ],
   "source": [
    "preds_df.head()"
   ]
  },
  {
   "cell_type": "code",
   "execution_count": 58,
   "id": "f3a2ad64",
   "metadata": {},
   "outputs": [
    {
     "data": {
      "text/plain": [
       "productId\n",
       "0594451647    0.003360\n",
       "0594481813    0.005729\n",
       "0970407998    0.008566\n",
       "0972683275    0.035330\n",
       "1400501466    0.006966\n",
       "dtype: float64"
      ]
     },
     "execution_count": 58,
     "metadata": {},
     "output_type": "execute_result"
    }
   ],
   "source": [
    "avg_preds = preds_df.mean()\n",
    "avg_preds.head()"
   ]
  },
  {
   "cell_type": "code",
   "execution_count": 59,
   "id": "ffafc491",
   "metadata": {},
   "outputs": [
    {
     "data": {
      "text/html": [
       "<div>\n",
       "<style scoped>\n",
       "    .dataframe tbody tr th:only-of-type {\n",
       "        vertical-align: middle;\n",
       "    }\n",
       "\n",
       "    .dataframe tbody tr th {\n",
       "        vertical-align: top;\n",
       "    }\n",
       "\n",
       "    .dataframe thead th {\n",
       "        text-align: right;\n",
       "    }\n",
       "</style>\n",
       "<table border=\"1\" class=\"dataframe\">\n",
       "  <thead>\n",
       "    <tr style=\"text-align: right;\">\n",
       "      <th></th>\n",
       "      <th>Avg_actual_ratings</th>\n",
       "      <th>Avg_predicted_ratings</th>\n",
       "    </tr>\n",
       "    <tr>\n",
       "      <th>productId</th>\n",
       "      <th></th>\n",
       "      <th></th>\n",
       "    </tr>\n",
       "  </thead>\n",
       "  <tbody>\n",
       "    <tr>\n",
       "      <th>0594451647</th>\n",
       "      <td>0.003247</td>\n",
       "      <td>0.003360</td>\n",
       "    </tr>\n",
       "    <tr>\n",
       "      <th>0594481813</th>\n",
       "      <td>0.001948</td>\n",
       "      <td>0.005729</td>\n",
       "    </tr>\n",
       "    <tr>\n",
       "      <th>0970407998</th>\n",
       "      <td>0.003247</td>\n",
       "      <td>0.008566</td>\n",
       "    </tr>\n",
       "    <tr>\n",
       "      <th>0972683275</th>\n",
       "      <td>0.012338</td>\n",
       "      <td>0.035330</td>\n",
       "    </tr>\n",
       "    <tr>\n",
       "      <th>1400501466</th>\n",
       "      <td>0.012987</td>\n",
       "      <td>0.006966</td>\n",
       "    </tr>\n",
       "  </tbody>\n",
       "</table>\n",
       "</div>"
      ],
      "text/plain": [
       "            Avg_actual_ratings  Avg_predicted_ratings\n",
       "productId                                            \n",
       "0594451647            0.003247               0.003360\n",
       "0594481813            0.001948               0.005729\n",
       "0970407998            0.003247               0.008566\n",
       "0972683275            0.012338               0.035330\n",
       "1400501466            0.012987               0.006966"
      ]
     },
     "execution_count": 59,
     "metadata": {},
     "output_type": "execute_result"
    }
   ],
   "source": [
    "rmse_df = pd.concat([avg_rating, avg_preds], axis = 1)\n",
    "\n",
    "rmse_df.columns = ['Avg_actual_ratings', 'Avg_predicted_ratings']\n",
    "\n",
    "rmse_df.head()"
   ]
  },
  {
   "cell_type": "code",
   "execution_count": 60,
   "id": "68961543",
   "metadata": {},
   "outputs": [
    {
     "name": "stdout",
     "output_type": "stream",
     "text": [
      "RMSE SVD Model = 0.013679389779858029 \n",
      "\n"
     ]
    }
   ],
   "source": [
    "RMSE = mean_squared_error(rmse_df['Avg_actual_ratings'], rmse_df['Avg_predicted_ratings'], squared=False)\n",
    "print(f'RMSE SVD Model = {RMSE} \\n')"
   ]
  }
 ],
 "metadata": {
  "kernelspec": {
   "display_name": "Python 3 (ipykernel)",
   "language": "python",
   "name": "python3"
  },
  "language_info": {
   "codemirror_mode": {
    "name": "ipython",
    "version": 3
   },
   "file_extension": ".py",
   "mimetype": "text/x-python",
   "name": "python",
   "nbconvert_exporter": "python",
   "pygments_lexer": "ipython3",
   "version": "3.11.4"
  }
 },
 "nbformat": 4,
 "nbformat_minor": 5
}
